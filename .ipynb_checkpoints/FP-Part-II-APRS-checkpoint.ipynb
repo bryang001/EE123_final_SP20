{
 "cells": [
  {
   "cell_type": "markdown",
   "metadata": {},
   "source": [
    "# Final Project Part II: AX.25 and APRS\n",
    "## Please read the text in this notebook carefully, there's lots of important detailed information everywhere. \n",
    "\n",
    "In this part of the project we are going to experiment with digital modulation and communication. Network communication systems have layered architechtures. The bottom layer is the physical layer which implements the modulation. Here we will use your [AFSK](http://en.wikipedia.org/wiki/Frequency-shift_keying) modules that you implemented in Lab 4 Part I. In addition, we will leverage [AX.25](http://www.tapr.org/pub_ax25.html), which is an amateur-radio data-link layer protocol. [AX.25](http://www.tapr.org/pub_ax25.html) is a packet based protocol that will help us transmit data using packets. It implements basic synchronization, addressing, data encapsulation and some error detection.  In the ham world, an implementation of AFSK and [AX.25](http://www.tapr.org/pub_ax25.html)  together is also called a [TNC ( Terminal Node Controller )](http://en.wikipedia.org/wiki/Terminal_node_controller). In the past, TNCs were separate boxes that hams attached to their radios to communicate with packet-based communication. An example is [TNC-X](http://tnc-x.com). Today, it is easy to implement TNCs in software using the Raspberry Pi and a sound extension.... as you will see here! \n",
    "\n",
    "\n",
    "<img src=\"./TNCX.jpg\" alt=\"Drawing\" style=\"height: 300px;\"/>\n",
    "\n",
    "<center> Figure: Example of TNC-X, a Hardware Terminal Node Controller  </center>\n",
    "\n"
   ]
  },
  {
   "cell_type": "markdown",
   "metadata": {},
   "source": [
    "# Pre-lab Setup\n",
    "Since we can't guarantee that everyone will have access to a radio, a callsign, and an APRS IGate close enough for the attenuated radios to reach, we have adjusted this lab to emulate RF infrastructure with a popular software TNC called direwolf. Since direwolf was designed to be able to transmit and receive RF signals through a sound card, we can emulate an RF channel by connecting our code's transmissions to direwolf through the same audio loopback we used in Lab 4. This section will set up direwolf and the audio loopback."
   ]
  },
  {
   "cell_type": "markdown",
   "metadata": {},
   "source": [
    "#### Pre-task 0\n",
    "Install direwolf on your Pi. Run the cell below **while connected to the internet**.\n",
    "We will also install geopy, which is a great way to get position information. "
   ]
  },
  {
   "cell_type": "code",
   "execution_count": 1,
   "metadata": {},
   "outputs": [
    {
     "name": "stdout",
     "output_type": "stream",
     "text": [
      "Get:1 http://archive.raspberrypi.org/debian stretch InRelease [25.4 kB]\n",
      "Get:2 http://raspbian.raspberrypi.org/raspbian stretch InRelease [15.0 kB]     \u001b[0m\u001b[33m\n",
      "Get:3 http://archive.raspberrypi.org/debian stretch/main armhf Packages [220 kB]\n",
      "Get:4 http://raspbian.raspberrypi.org/raspbian stretch/main armhf Packages [11.7 MB]\n",
      "Fetched 11.9 MB in 10s (1,176 kB/s)                                            \u001b[0m[33m\u001b[33m\u001b[33m\u001b[33m\u001b[33m\u001b[33m\u001b[33m\u001b[33m\u001b[33m\u001b[33m\u001b[33m\u001b[33m\u001b[33m\u001b[33m\n",
      "Reading package lists... Done\n",
      "Building dependency tree       \n",
      "Reading state information... Done\n",
      "39 packages can be upgraded. Run 'apt list --upgradable' to see them.\n",
      "Reading package lists... Done\n",
      "Building dependency tree        \n",
      "Reading state information... Done\n",
      "The following additional packages will be installed:\n",
      "  direwolf-docs libgps22\n",
      "Suggested packages:\n",
      "  gpsd\n",
      "The following NEW packages will be installed:\n",
      "  direwolf direwolf-docs libgps22\n",
      "0 upgraded, 3 newly installed, 0 to remove and 39 not upgraded.\n",
      "Need to get 13.5 MB of archives.\n",
      "After this operation, 14.4 MB of additional disk space will be used.\n",
      "Get:1 http://mirror.sjc02.svwh.net/raspbian/raspbian stretch/main armhf libgps22 armhf 3.16-4 [88.7 kB][33m\u001b[33m\u001b[33m\u001b[33m\u001b[33m\u001b[33m\u001b[33m\u001b[33m\u001b[33m\u001b[33m\u001b[33m\u001b[33m\u001b[33m\u001b[33m\u001b[33m\u001b[33m\u001b[33m\u001b[33m\u001b[33m\u001b[33m\u001b[33m\u001b[33m\u001b[33m\u001b[33m\u001b[33m\u001b[33m\u001b[33m\u001b[33m\u001b[33m\u001b[33m\u001b[33m\u001b[33m\u001b[33m\u001b[33m\u001b[33m\u001b[33m\u001b[33m\u001b[33m\u001b[33m\u001b[33m\u001b[33m\u001b[33m\u001b[33m\u001b[33m\u001b[33m\u001b[33m\u001b[33m\u001b[33m\u001b[33m\u001b[33m\u001b[33m\u001b[33m\u001b[33m\u001b[33m\u001b[33m\u001b[33m\u001b[33m\u001b[33m\u001b[33m\u001b[33m\u001b[33m\u001b[33m\u001b[33m\u001b[33m\u001b[33m\u001b[33m\u001b[33m\u001b[33m\u001b[33m\u001b[33m\u001b[33m\u001b[33m\u001b[33m\u001b[33m\u001b[33m\u001b[33m\u001b[33m\u001b[33m\u001b[33m\u001b[33m\u001b[33m\u001b[33m\u001b[33m\u001b[33m\u001b[33m\u001b[33m\u001b[33m\u001b[33m\u001b[33m\u001b[33m\u001b[33m\u001b[33m\u001b[33m\u001b[33m\u001b[33m\u001b[33m\u001b[33m\u001b[33m\u001b[33m\u001b[33m\u001b[33m\u001b[33m\u001b[33m\u001b[33m\u001b[33m\u001b[33m\u001b[33m\u001b[33m\u001b[33m\u001b[33m\u001b[33m\u001b[33m\u001b[33m\u001b[33m\u001b[33m\u001b[33m\u001b[33m\u001b[33m\u001b[33m\u001b[33m\u001b[33m\n",
      "Get:2 http://mirror.sjc02.svwh.net/raspbian/raspbian stretch/main armhf direwolf-docs all 1.3-2 [13.1 MB]\n",
      "Get:3 http://mirror.sjc02.svwh.net/raspbian/raspbian stretch/main armhf direwolf armhf 1.3-2 [286 kB]3m\u001b[33m\u001b[33m\u001b[33m\u001b[33m\u001b[33m\u001b[33m\u001b[33m\u001b[33m\u001b[33m\n",
      "Fetched 13.5 MB in 1min 14s (182 kB/s)                                         \u001b[0m\u001b[33m\n",
      "\n",
      "\u001b7\u001b[0;23r\u001b8\u001b[1ASelecting previously unselected package libgps22:armhf.\n",
      "(Reading database ... 89733 files and directories currently installed.)\n",
      "Preparing to unpack .../libgps22_3.16-4_armhf.deb ...\n",
      "\u001b7\u001b[24;0f\u001b[42m\u001b[30mProgress: [  0%]\u001b[49m\u001b[39m [..........................................................] \u001b8\u001b7\u001b[24;0f\u001b[42m\u001b[30mProgress: [  6%]\u001b[49m\u001b[39m [###.......................................................] \u001b8Unpacking libgps22:armhf (3.16-4) ...\n",
      "\u001b7\u001b[24;0f\u001b[42m\u001b[30mProgress: [ 12%]\u001b[49m\u001b[39m [#######...................................................] \u001b8\u001b7\u001b[24;0f\u001b[42m\u001b[30mProgress: [ 18%]\u001b[49m\u001b[39m [##########................................................] \u001b8Selecting previously unselected package direwolf-docs.\n",
      "Preparing to unpack .../direwolf-docs_1.3-2_all.deb ...\n",
      "\u001b7\u001b[24;0f\u001b[42m\u001b[30mProgress: [ 25%]\u001b[49m\u001b[39m [##############............................................] \u001b8Unpacking direwolf-docs (1.3-2) ...\n",
      "\u001b7\u001b[24;0f\u001b[42m\u001b[30mProgress: [ 31%]\u001b[49m\u001b[39m [##################........................................] \u001b8\u001b7\u001b[24;0f\u001b[42m\u001b[30mProgress: [ 37%]\u001b[49m\u001b[39m [#####################.....................................] \u001b8Selecting previously unselected package direwolf.\n",
      "Preparing to unpack .../direwolf_1.3-2_armhf.deb ...\n",
      "\u001b7\u001b[24;0f\u001b[42m\u001b[30mProgress: [ 43%]\u001b[49m\u001b[39m [#########################.................................] \u001b8Unpacking direwolf (1.3-2) ...\n",
      "\u001b7\u001b[24;0f\u001b[42m\u001b[30mProgress: [ 50%]\u001b[49m\u001b[39m [#############################.............................] \u001b8\u001b7\u001b[24;0f\u001b[42m\u001b[30mProgress: [ 56%]\u001b[49m\u001b[39m [################################..........................] \u001b8Processing triggers for mime-support (3.60) ...\n",
      "Processing triggers for desktop-file-utils (0.23-1) ...\n",
      "Setting up libgps22:armhf (3.16-4) ...\n",
      "\u001b7\u001b[24;0f\u001b[42m\u001b[30mProgress: [ 62%]\u001b[49m\u001b[39m [####################################......................] \u001b8\u001b7\u001b[24;0f\u001b[42m\u001b[30mProgress: [ 68%]\u001b[49m\u001b[39m [#######################################...................] \u001b8Processing triggers for libc-bin (2.24-11+deb9u4) ...\n",
      "Processing triggers for man-db (2.7.6.1-2) ...\n",
      "Processing triggers for gnome-menus (3.13.3-9) ...\n",
      "Setting up direwolf-docs (1.3-2) ...\n",
      "\u001b7\u001b[24;0f\u001b[42m\u001b[30mProgress: [ 75%]\u001b[49m\u001b[39m [###########################################...............] \u001b8\u001b7\u001b[24;0f\u001b[42m\u001b[30mProgress: [ 81%]\u001b[49m\u001b[39m [###############################################...........] \u001b8Setting up direwolf (1.3-2) ...\n",
      "\u001b7\u001b[24;0f\u001b[42m\u001b[30mProgress: [ 87%]\u001b[49m\u001b[39m [##################################################........] \u001b8direwolf.service is a disabled or a static unit, not starting it.\n",
      "\u001b7\u001b[24;0f\u001b[42m\u001b[30mProgress: [ 93%]\u001b[49m\u001b[39m [######################################################....] \u001b8\n",
      "\u001b7\u001b[0;24r\u001b8\u001b[1A\u001b[JLooking in indexes: https://pypi.org/simple, https://www.piwheels.org/simple\n",
      "Collecting geopy\n",
      "  Downloading geopy-1.21.0-py2.py3-none-any.whl (104 kB)\n",
      "\u001b[K     |████████████████████████████████| 104 kB 4.6 MB/s eta 0:00:01\n",
      "\u001b[?25hCollecting geographiclib<2,>=1.49\n",
      "  Downloading geographiclib-1.50-py3-none-any.whl (38 kB)\n",
      "Installing collected packages: geographiclib, geopy\n",
      "Successfully installed geographiclib-1.50 geopy-1.21.0\n"
     ]
    }
   ],
   "source": [
    "!sudo apt update && sudo apt install direwolf -y\n",
    "!sudo pip install geopy"
   ]
  },
  {
   "cell_type": "markdown",
   "metadata": {},
   "source": [
    "#### Pre-task 1\n",
    "Just as in the alternative  Lab 4, we must create an audio loopback with the command\n",
    "```sh\n",
    "sudo modprobe snd_aloop\n",
    "```\n",
    "You can check that it was successful with\n",
    "```sh\n",
    "aplay -L | grep -i plughw:card=loopback\n",
    "aplay -l | grep -i loopback\n",
    "```\n",
    "\n",
    "Run the commands below and ensure the loopback exists."
   ]
  },
  {
   "cell_type": "code",
   "execution_count": 1,
   "metadata": {},
   "outputs": [
    {
     "name": "stdout",
     "output_type": "stream",
     "text": [
      "plughw:CARD=Loopback,DEV=0\n",
      "plughw:CARD=Loopback,DEV=1\n",
      "card 2: Loopback [Loopback], device 0: Loopback PCM [Loopback PCM]\n",
      "card 2: Loopback [Loopback], device 1: Loopback PCM [Loopback PCM]\n"
     ]
    }
   ],
   "source": [
    "!sudo modprobe snd_aloop\n",
    "!aplay -L | grep -i plughw:card=loopback\n",
    "!aplay -l | grep -i loopback"
   ]
  },
  {
   "cell_type": "markdown",
   "metadata": {},
   "source": [
    "- Record the card number for it to be used in the direwolf config file in case you have problems. "
   ]
  },
  {
   "cell_type": "markdown",
   "metadata": {},
   "source": [
    "#### Pre-task 2\n",
    "Now, we need to find your GPS coordinates. Direwolf will register the position on the APRS-IS network. The APRS-IS server filter, will only send packets to your Direwolf server if the stations are within 50km radius (you don't want to get position reports from the entire world, do you?). So, it is important that you use the same position throghout the lab (later we will use position again). \n",
    "\n",
    "We will use geopy to convert an address to a coordinate:"
   ]
  },
  {
   "cell_type": "code",
   "execution_count": 2,
   "metadata": {},
   "outputs": [],
   "source": [
    "# Enter your address here\n",
    "myaddress = \"Cory Hall Berkeley CA USA\"\n",
    "\n",
    "from geopy.geocoders import Nominatim\n",
    "geolocator = Nominatim(user_agent=\"EE123\")\n",
    "location = geolocator.geocode(myaddress)"
   ]
  },
  {
   "cell_type": "code",
   "execution_count": 3,
   "metadata": {},
   "outputs": [
    {
     "name": "stdout",
     "output_type": "stream",
     "text": [
      "Cory Hall, A. Richard Newton Bridge, Northside, Berkeley, Alameda County, California, 94720, United States of America\n",
      "(37.87505015, -122.25784108556292)\n"
     ]
    }
   ],
   "source": [
    "# hopefully it did not fail\n",
    "print(location.address)\n",
    "print((location.latitude, location.longitude))"
   ]
  },
  {
   "cell_type": "markdown",
   "metadata": {},
   "source": [
    "APRS uses degree,minutes.XX type format,  so we need to convert the coordinates. Use the following code to convert. Record the result to be used in the direwolf config file. "
   ]
  },
  {
   "cell_type": "code",
   "execution_count": 4,
   "metadata": {},
   "outputs": [
    {
     "name": "stdout",
     "output_type": "stream",
     "text": [
      "lat=37^52.50N long=122^15.47W\n"
     ]
    }
   ],
   "source": [
    "import math\n",
    "lat = \"lat=%d^%2.2f%s\" % (int(abs(location.latitude)),\n",
    "                          60*(abs(location.latitude) - abs(math.floor(location.latitude))),\n",
    "                          (\"N\") if location.latitude >0 else \"S\" )  \n",
    "long = \"long=%d^%2.2f%s\" % (int(abs(location.longitude)),\n",
    "                            60*(abs(location.longitude) - math.floor(abs(location.longitude))),\n",
    "                          (\"W\") if location.longitude <0 else \"E\" )  \n",
    "                            \n",
    "print(lat, long)"
   ]
  },
  {
   "cell_type": "markdown",
   "metadata": {},
   "source": [
    "In order to be verified by the APRS-IS network, you need a passcode that is associated with your call sign. The following code is adapted from https://github.com/rossengeorgiev/aprs-python/blob/master/aprslib/passcode.py to produce this code. Input your callsign and record the code to be used in the direwolf config file. \n",
    "\n",
    "**If you do not have a callsign, contact the course staff and we will provide you with an SSID under the Cal Ham Radio Club's callsign**\n",
    "\n",
    "An SSID is a number used to distinguish individual transmitters operated with a single callsign. Using an SSID, you could have a repeater at home, a weather station nearby, and an APRS enabled handheld radio all sending packets with your callsign, but still be distinguishable. SSIDs are formatted as `CALSGN-#`, e.g. `KK6MRI-1`."
   ]
  },
  {
   "cell_type": "code",
   "execution_count": 5,
   "metadata": {},
   "outputs": [
    {
     "name": "stdout",
     "output_type": "stream",
     "text": [
      "Passcode: 19123\n"
     ]
    }
   ],
   "source": [
    "# enter your callsign and comment for the beacon\n",
    "\n",
    "callsign = \"KN6IDV-1\"\n",
    "comment = \"EE123 is cool\"\n",
    "\n",
    "\n",
    "callsignr = callsign.split('-')[0].upper()\n",
    "code = 0x73e2\n",
    "for i, char in enumerate(callsignr):\n",
    "    code ^= ord(char) << (8 if not i % 2 else 0)\n",
    "\n",
    "passcode = code&0x7fff\n",
    "print(\"Passcode:\", passcode)"
   ]
  },
  {
   "cell_type": "markdown",
   "metadata": {},
   "source": [
    "Let's use the above information to update the config file for direwolf:"
   ]
  },
  {
   "cell_type": "code",
   "execution_count": 6,
   "metadata": {},
   "outputs": [
    {
     "name": "stdout",
     "output_type": "stream",
     "text": [
      "cat direwolf-loopback-DRAFT.conf  | sed  's/EE123_CALL/KN6IDV-1/g'  | sed  's/EE123_PASSCODE/19123/g' | sed  's/EE123_COMMENT/comment=\"EE123 is cool\"/g' | sed  's/EE123_LATCOORD/lat=37^52.50N/g' | sed  's/EE123_LONGCOORD/long=122^15.47W/g' > direwolf-loopback.conf\n"
     ]
    },
    {
     "data": {
      "text/plain": [
       "0"
      ]
     },
     "execution_count": 6,
     "metadata": {},
     "output_type": "execute_result"
    }
   ],
   "source": [
    "import os\n",
    "\n",
    "cmd = \"cat direwolf-loopback-DRAFT.conf  | sed  's/EE123_CALL/\"+callsign+\"/g'  | \"\n",
    "cmd = cmd +  \"sed  's/EE123_PASSCODE/%d/g' | \" % (passcode)\n",
    "cmd = cmd +  \"sed  's/EE123_COMMENT/comment=\\\"%s\\\"/g' | \" % (comment)\n",
    "cmd = cmd +  \"sed  's/EE123_LATCOORD/%s/g' | \" % (lat)\n",
    "cmd = cmd +  \"sed  's/EE123_LONGCOORD/%s/g' > direwolf-loopback.conf\" % (long)\n",
    "print(cmd)\n",
    "os.system(cmd)  # NOTE: this is poor security practice, but conveniently concise here"
   ]
  },
  {
   "cell_type": "markdown",
   "metadata": {},
   "source": [
    "#### Pre-task 3\n",
    "Once you have edited the config file, start a terminal (either via SSH or in Jupyter from the directory page), change to this directory, and run\n",
    "```sh\n",
    "./run-direwolf.sh\n",
    "```\n",
    "\n",
    "Leave direwolf running while you are working on the lab. You can close it with control-c once you are finished.\n",
    "\n",
    "Goto  http://aprs.fi and fill your callsign+ssid in the track callsign box.  You should see your station. "
   ]
  },
  {
   "cell_type": "markdown",
   "metadata": {},
   "source": [
    "# Main Tasks"
   ]
  },
  {
   "cell_type": "code",
   "execution_count": 7,
   "metadata": {},
   "outputs": [],
   "source": [
    "\n",
    "# Import functions and libraries\n",
    "import numpy as np\n",
    "import matplotlib.pyplot as plt\n",
    "import queue as Queue\n",
    "import threading,time\n",
    "import sys\n",
    "\n",
    "from numpy import pi\n",
    "from numpy import sin\n",
    "from numpy import zeros\n",
    "from numpy import r_\n",
    "from numpy import ones\n",
    "from scipy import signal\n",
    "from scipy import integrate\n",
    "\n",
    "import time\n",
    "import multiprocessing\n",
    "\n",
    "from numpy import mean\n",
    "from numpy import power\n",
    "from numpy.fft import fft\n",
    "from numpy.fft import fftshift\n",
    "from numpy.fft import ifft\n",
    "from numpy.fft import ifftshift\n",
    "import bitarray\n",
    "from  scipy.io.wavfile import read as wavread\n",
    "import ax25\n",
    "from math import gcd\n",
    "import sounddevice as sd\n",
    "import RPi.GPIO as GPIO\n",
    "from functools import reduce\n",
    "from numpy import ones,zeros, pi, cos, exp, sign\n",
    "\n",
    "%matplotlib inline"
   ]
  },
  {
   "cell_type": "markdown",
   "metadata": {},
   "source": [
    "For the following tasks you will need the functions:\n",
    "\n",
    "`sg_plot`  included below\n",
    "\n",
    "`myspectrogram_hann_ovlp` included below\n",
    "\n",
    "`printDevNumbers`  included below\n",
    "\n",
    "\n",
    "`afsk1200` (from Lab 4 Part II)\n",
    "\n",
    "`nc_afsk1200Demod` (from Lab 4 Part II)\n",
    "\n",
    "`PLL` (from Lab 4 Part II)"
   ]
  },
  {
   "cell_type": "code",
   "execution_count": 8,
   "metadata": {},
   "outputs": [],
   "source": [
    "# function to compute least common multiple\n",
    "def lcm(numbers):\n",
    "    return reduce(lambda x, y: (x*y)//gcd(x,y), numbers, 1)\n",
    "\n",
    "# function to compute average power spectrum\n",
    "def avgPS( x, N=256, fs=1):\n",
    "    M = (len(x)//N)\n",
    "    x_ = np.reshape(x[:M*N],(M,N)) * np.hamming(N)[None,:]\n",
    "    X = np.fft.fftshift(np.fft.fft(x_,axis=1),axes=1)\n",
    "    return r_[-N/2.0:N/2.0]/N*fs, np.mean(abs(X)**2,axis=0)\n",
    "\n",
    "\n",
    "\n",
    "# Plot an image of the spectrogram y, with the axis labeled with time tl,\n",
    "# and frequency fl\n",
    "#\n",
    "# t_range -- time axis label, nt samples\n",
    "# f_range -- frequency axis label, nf samples\n",
    "# y -- spectrogram, nf by nt array\n",
    "# dbf -- Dynamic range of the spect\n",
    "\n",
    "def sg_plot( t_range, f_range, y, dbf = 60, fig = None) :\n",
    "    eps = 10.0**(-dbf/20.0)  # minimum signal\n",
    "    \n",
    "    # find maximum\n",
    "    y_max = abs(y).max()\n",
    "    \n",
    "    # compute 20*log magnitude, scaled to the max\n",
    "    y_log = 20.0 * np.log10( (abs( y ) / y_max)*(1-eps) + eps )\n",
    "    \n",
    "    # rescale image intensity to 256\n",
    "    img = 256*(y_log + dbf)/dbf - 1\n",
    "    \n",
    "    fig=plt.figure(figsize=(16,6))\n",
    "    \n",
    "    plt.imshow( np.flipud( 64.0*(y_log + dbf)/dbf ), extent= t_range  + f_range ,cmap=plt.cm.gray, aspect='auto')\n",
    "    plt.xlabel('Time, s')\n",
    "    plt.ylabel('Frequency, Hz')\n",
    "    plt.tight_layout()\n",
    "    \n",
    "    return fig\n",
    "\n",
    "\n",
    "def myspectrogram_hann_ovlp(x, m, fs, fc,dbf = 60):\n",
    "    # Plot the spectrogram of x.\n",
    "    # First take the original signal x and split it into blocks of length m\n",
    "    # This corresponds to using a rectangular window %\n",
    "    \n",
    "    \n",
    "    isreal_bool = np.isreal(x).all()\n",
    "    \n",
    "    # pad x up to a multiple of m \n",
    "    lx = len(x);\n",
    "    nt = (lx + m - 1) // m\n",
    "    x = np.append(x,zeros(-lx+nt*m))\n",
    "    x = x.reshape((m//2,nt*2), order='F')\n",
    "    x = np.concatenate((x,x),axis=0)\n",
    "    x = x.reshape((m*nt*2,1),order='F')\n",
    "    x = x[r_[m//2:len(x),np.ones(m//2)*(len(x)-1)].astype(int)].reshape((m,nt*2),order='F')\n",
    "    \n",
    "    \n",
    "    xmw = x * np.hanning(m)[:,None];\n",
    "    \n",
    "    \n",
    "    # frequency index\n",
    "    t_range = [0.0, lx / fs]\n",
    "    \n",
    "    if isreal_bool:\n",
    "        f_range = [ fc, fs / 2.0 + fc]\n",
    "        xmf = np.fft.fft(xmw,len(xmw),axis=0)\n",
    "        sg_plot(t_range, f_range, xmf[0:m//2,:],dbf=dbf)\n",
    "        print (1)\n",
    "    else:\n",
    "        f_range = [-fs / 2.0 + fc, fs / 2.0 + fc]\n",
    "        xmf = np.fft.fftshift( np.fft.fft( xmw ,len(xmw),axis=0), axes=0 )\n",
    "        sg_plot(t_range, f_range, xmf,dbf = dbf)\n",
    "    \n",
    "    return t_range, f_range, xmf\n",
    "\n",
    "\n",
    "\n"
   ]
  },
  {
   "cell_type": "markdown",
   "metadata": {},
   "source": [
    "### Functions from part Lab 4 II\n",
    "\n",
    "Insert your \n",
    "\n",
    "`afsk1200` (from Lab 4 Part II)\n",
    "\n",
    "`nc_afsk1200Demod` (from lab 4 Part II)\n",
    "\n",
    "`PLL` (from lab 4 Part II)\n",
    "\n",
    "Below\n"
   ]
  },
  {
   "cell_type": "code",
   "execution_count": 9,
   "metadata": {},
   "outputs": [],
   "source": [
    "def afsk1200(bits, fs = 48000):\n",
    "    # the function will take a bitarray of bits and will output an AFSK1200 modulated signal of them, sampled at fs Hz\n",
    "    #  Inputs:\n",
    "    #         bits  - bitarray of bits\n",
    "    #         fs    - sampling rate\n",
    "    # Outputs:\n",
    "    #         sig    -  returns afsk1200 modulated signal samples at fs Hz\n",
    "    \n",
    "    #from provided solution to Lab 4 Part I (it ain't part II)\n",
    "\n",
    "    fss = lcm((1200,fs))\n",
    "    deci = fss//fs\n",
    "\n",
    "    Nb = fss//1200\n",
    "    nb = len(bits)\n",
    "    NRZ = ones((nb,Nb))\n",
    "    for n in range(0,nb):\n",
    "        if bits[n]:\n",
    "            NRZ[n,:]=-NRZ[n,:]\n",
    "\n",
    "    freq = 1700 + 500*NRZ.ravel()\n",
    "    ph = 2.0*pi*integrate.cumtrapz(freq)/fss\n",
    "    sig = cos(ph[::deci])\n",
    "    \n",
    "    \n",
    "    return sig\n",
    "\n",
    "\n",
    "\n",
    "\n",
    "\n",
    "\n",
    "def nc_afsk1200Demod(sig, fs=48000.0, TBW=2.0):\n",
    "    #  non-coherent demodulation of afsk1200\n",
    "    # function returns the NRZ (without rectifying it)\n",
    "    # \n",
    "    # sig  - signal\n",
    "    # baud - The bitrate. Default 1200\n",
    "    # fs   - sampling rate in Hz\n",
    "    # TBW  - TBW product of the filters\n",
    "    #\n",
    "    # Returns:\n",
    "    #     NRZ \n",
    "    \n",
    "    N = (int(fs/1200*TBW)//2)*2+1\n",
    "    \n",
    "    BW = TBW/(1.0*N/fs)\n",
    "    BW = TBW/(1.0*N/fs) #why is this here twice?\n",
    "    h_lp = signal.firwin(N,BW/fs*1.0,window='hanning')\n",
    "    h_lpp = signal.firwin(N,BW*2*1.2/fs,window='hanning')\n",
    "    h_space = h_lp*exp(1j*2*pi*(2200)*r_[-N/2:N/2]/fs)\n",
    "    h_mark = h_lp*exp(1j*2*pi*(1200)*r_[-N/2:N/2]/fs)\n",
    "    h_bp = (signal.firwin(N,BW/fs*2.2,window='hanning'))*exp(1j*2*pi*1700*r_[-N/2:N/2]/fs)\n",
    "\n",
    "    sig = np.convolve(sig.copy(),h_bp,'same')\n",
    "    mark = abs(np.convolve(sig,h_mark,mode='same'))\n",
    "    space = abs(np.convolve(sig,h_space,mode='same'))\n",
    "    NRZ = mark-space\n",
    "    NRZ = np.convolve(NRZ,h_lpp,'same')\n",
    "\n",
    "    return NRZ\n",
    "\n",
    "\n",
    "def PLL(NRZa, a = 0.74 , fs = 48000, baud = 1200):\n",
    "    \n",
    "    Ns = 1.0*fs/baud\n",
    "    idx = zeros(len(NRZa)//int(Ns)*2)   # allocate space to save indexes\n",
    "    lock = zeros(len(NRZa)//int(Ns)*2)\n",
    "    c = 0\n",
    "    dpll = np.round(2**32 / Ns).astype(np.int32)\n",
    "    pll = np.int32(0)\n",
    "    ppll = pll - dpll\n",
    "    \n",
    "    for n in range(1,len(NRZa)):\n",
    "        if (pll < 0) and (ppll >0):\n",
    "            idx[c] = n\n",
    "            c = c+1\n",
    "    \n",
    "        if (NRZa[n] >= 0) !=  (NRZa[n-1] >=0):\n",
    "            pll = np.int32(pll*a)\n",
    "            lock[c] = pll\n",
    "    \n",
    "        ppll = pll\n",
    "        pll = np.int32(pll+ dpll)\n",
    "    \n",
    "    return idx[:c].astype(np.int32) \n",
    "    \n"
   ]
  },
  {
   "cell_type": "markdown",
   "metadata": {},
   "source": [
    "Now, similarly to before, find the audio interface numbers. And intitialize the variables:\n",
    "usb_idx, loop_idx, builtin_idx\n",
    "\n",
    "You should use the second loopback device (dev 1) because direwolf connects to the first device.\n",
    "\n",
    "If you want to transmit with your radio, change instances of loop_idx in the sections below to usb_idx.\n"
   ]
  },
  {
   "cell_type": "code",
   "execution_count": 10,
   "metadata": {},
   "outputs": [
    {
     "data": {
      "text/plain": [
       "  0 bcm2835 ALSA: - (hw:0,0), ALSA (0 in, 2 out)\n",
       "  1 bcm2835 ALSA: IEC958/HDMI (hw:0,1), ALSA (0 in, 2 out)\n",
       "  2 Fe-Pi Audio: - (hw:1,0), ALSA (2 in, 2 out)\n",
       "  3 Loopback: PCM (hw:2,0), ALSA (32 in, 32 out)\n",
       "  4 Loopback: PCM (hw:2,1), ALSA (32 in, 32 out)\n",
       "  5 sysdefault, ALSA (0 in, 128 out)\n",
       "  6 dmix, ALSA (0 in, 2 out)\n",
       "* 7 default, ALSA (2 in, 2 out)"
      ]
     },
     "execution_count": 10,
     "metadata": {},
     "output_type": "execute_result"
    }
   ],
   "source": [
    "sd.query_devices()"
   ]
  },
  {
   "cell_type": "code",
   "execution_count": 11,
   "metadata": {},
   "outputs": [],
   "source": [
    "builtin_idx = 0\n",
    "usb_idx = 2\n",
    "loop_idx = 4 #this one? hw2,1\n",
    "sd.default.samplerate=48000\n",
    "sd.default.channels = 1"
   ]
  },
  {
   "cell_type": "markdown",
   "metadata": {},
   "source": [
    "Initialize serial port"
   ]
  },
  {
   "cell_type": "code",
   "execution_count": 12,
   "metadata": {},
   "outputs": [
    {
     "name": "stderr",
     "output_type": "stream",
     "text": [
      "/usr/local/lib/python3.5/dist-packages/ipykernel_launcher.py:2: RuntimeWarning: No channels have been set up yet - nothing to clean up!  Try cleaning up at the end of your program instead!\n",
      "  \n"
     ]
    }
   ],
   "source": [
    "# This will only be necessary if you transmit with your radio.\n",
    "GPIO.cleanup()\n",
    "GPIO.setmode(GPIO.BOARD)\n",
    "PTT = 16\n",
    "GPIO.setup(PTT, GPIO.OUT, initial = 0)"
   ]
  },
  {
   "cell_type": "markdown",
   "metadata": {},
   "source": [
    "## AX.25 (from: http://n1vg.net/packet/ and http://www.tapr.org/pub_ax25.html)\n",
    "\n",
    "Before we go to demodulate AFSK1200 we will construct data in the form of AX.25 packets. The structure of the AX.25 packet, and in particular the flag that starts and ends a frame will help us sync to the beginning of the packet for accurate demodulation. \n",
    "The AX.25 protocol uses several measures for standardization and to improve detection and demodulation of packets. We will go over them now:\n",
    "\n",
    "#### NRZI (non-return to zero inverted)\n",
    "AX.25 does not encode  NRZ '1's and '0's in the usual mark and space frequencies. Instead it uses a scheme called NRZI, or non-return to zero inverted.  NRZI encodes a '0' bit as a change from mark to space, or space to mark. A '1' is encoded as no change.  To encode an AX.25 packet we need to convert our bit sequence to an NRZI one.  For example, an original bit stream of 11011000 should be first converted to 11000101 (initial state is 1). \n",
    "\n",
    "#### Bit Stuffing\n",
    "Because a '1' is represented by no change, sending a long string of '1's would result in a constant signal. Receivers, similar to the one you designed in Lab 4, uses phase-locked-loops to synchronize on bit changes. So a long constant signal may result in a receiver drifting out of sync with the transmitter. In order to circumvent this, the encoder performs bit stuffing before transmition by placing   a bit '0' after every fifth '1' in the the stream. The decoder does bit unstuffing and removes the extra '0's. Bit stuffing is performed before converting to NRZI.\n",
    "\n",
    "#### Bit Order\n",
    "Bytes are sent least-significant-bit first\n",
    "\n",
    "#### Flag\n",
    "A Flag field starts and ends each packet. It is a unique sequence and is used to detect the beginning and the end of packets. The flag consists of the bit sequence: 0x7E or: 01111110. The flag is an exception in which no bit stuffing is performed. Therefore it is the only place in the packet in which 6 consecutive '1's appear. In NRZI it will translate to a time interval of 7 bits between zero-crossings of the non-coherent detector output.  This means that we can use the flag sequence to uniquely detect the beginning and the end of a packet. \n",
    "\n",
    "#### Frame Structure\n",
    "The AX.25 protocol defines several types of frames, or packets. We will use the Un-numbered Information (UI) frame as defined in the protocol. A UI frame is used for connectionless mode, where AX.25 frames are transmitted without expecting any response, and reception is not guaranteed. This is similar to UDP in concept (however UDP is a transport layer protocol).\n",
    "The  [Automatic Positioning and Reporting System (APRS)] (http://en.wikipedia.org/wiki/Automatic_Packet_Reporting_System) protocol uses UI frames. The UI frame has 9 fields of data:\n",
    "\n",
    "| flag | Dest. Addr. | Src. Addr. |Digipeater Addresses | Control field | ID | Information Field | FCS | Flag |\n",
    "|----:|-----------:|----------:|:------------------:|:-------------:|:--:|:-----------------:|:---:|:----:|\n",
    "|1     |     7       |     7      |    56              |       1       |  1 |     256           |  2  |  1   |\n",
    "\n",
    "Of importance are the Source address, which are your call sign, the Information Field which is the packet payload, and the FCS which is an error checksum.\n",
    "\n",
    "#### FCS Field\n",
    "The FCS field is always the last two bytes in the packet. They are a checksum that can be used to determine the integrity of the packet, i.e., if an error in some of the bits has occured.\n"
   ]
  },
  {
   "cell_type": "markdown",
   "metadata": {},
   "source": [
    "---\n",
    "The following describes a system implementation that is based on the AX.25 protocol. It is called APRS, which stands for Automatic Positioning and Reporting System.\n",
    "\n",
    "## Automatic Positioning and Reporting System (APRS) (information from: [Here](http://www.aprs.org/doc/APRS101.PDF) and [here](http://www.aprs.org/iss-aprs/issicons.html))\n",
    "APRS is a ham packet-based system for real-time tactical digital communication for local area. APRS uses the AX.25 protocol in its core. Using APRS you can report position, status, and send messages that other hams or stations with APRS capability will be able to decode, interpret and display the information. APRS also provides means of packet repeating (Digipeaters) alongside internet terminal nodes. Some radio manufacturers saw the potential and included APRS in some of their products as well. Go to [this website](https://aprs.fi) to see the APRS activity in the surrounding area that is aggregated from the internet nodes. You will see fixed stations, weather stations, and mobile operators in your area. We will use the website to confirm that our transmitted packets were received. \n",
    "\n",
    "### Frequencies\n",
    "The national APRS frequency is 144.39MHz (ch-99 on your radio). There is much activity and infrastracture transmitting and listenning to that frequency. The international space station also has an APRS digipeater on board operating at 145.825MHZ (ch-50 on your radio). \n",
    "\n",
    "#### EE123 APRS frequency\n",
    "To prevent interference with others while we experiment with APRS, I have set up an APRS station in Cory hall. It will monitor the XPMT4U channel (ch-78),  443.670MHz on your radio. It has an internet link as well. Use this frequency especially if you are present in Cory Hall. If you are far from campus, this may not work. In that case, switch to the APRS frequency 144.39 (ch-99). Check out the website (http://aprs.fi) to see if there are any internet nodes near your home.\n",
    "\n",
    "### APRS Destination, Source, Digipeater Address, Control, ID and FCS packet fields\n",
    "APRS uses AX.25 with UI packets. This enables the use of any AX.25 modem with APRS. But the content of the UI packets is unique to APRS, and the information is used in a very particular way.\n",
    "\n",
    "For APRS packets, the Destination Address field is not used for routing. Instead it represents the version of the APRS software you are using. In order to be decoded by receivers in the APRS network it must start with the letters AP. We will use **`APCAL`** just for fun. \n",
    "\n",
    "The Source Address is **your call sign**. The Digipeater Addresses require some explanation, but the fields 'WIDE1-1,WIDE2-1' will result in the packet being digipeated a maximum of 2 hops. Using 'WIDE1-1' will result in a single hop which, in dense population areas like the Bay Area, is enough to get your packet to its destination. The Control and ID fields in APRS packets are fixed to \"\\x03\" and \"\\xF0\" respectively. The FCS field is the checksum field that is used to verify the packet integrity, as defined by AX.25. The flag fields are the usual 01111110.\n",
    "\n",
    "We have prepared for you code that generates a valid bitstream of AX.25 packets from the appropriate fields as well as decodes the fields from a bitstream. The code is a modification of code originally written by Greg Albrecht W2GMD. \n",
    "\n",
    "Make sure you have the file ``ax25.py`` in your working directory"
   ]
  },
  {
   "cell_type": "markdown",
   "metadata": {},
   "source": [
    " \n",
    "### The APRS information field\n",
    "The information field of the packet is a 256 Byte payload that contain the information you want to send. We will go over some of the information that is needed to construct valid and useful information field messeges. There are several digipeaters in the Bay Area that have internet terminal nodes. These implement several \"fun\" and useful services. For example, you can send a position report that would show up on a google map. You can also send a short EMAIL or an SMS test message by sending an APRS packet. In fact, we have our own APRS internet terminal node on Cory Hall!\n",
    "\n",
    "How a node or a client interprets your packet depends on the information field structure. The APRS system considers three types of packets: Position, Status and Message.\n",
    "\n",
    "#### Messages\n",
    "The format of a message payload is the following:\n",
    "\n",
    "Just begin your packet line with a colon and a 9 character TOADDRESS, another colon and then text. \n",
    "The TOADDRESS must have 9 characters and should be filled with spaces if it is smaller. \n",
    "\n",
    "Examples of messages:\n",
    "\n",
    "* :ALL❏❏❏❏❏❏:Everyone with capable radios that capture this message will display this text.\n",
    "* :KK6MRI❏❏❏:This message will only show on Miki's APRS enabled Yaezu VX-8dr radio screen\n",
    "* :SMSGTE❏❏❏:@5102008498 This message will be sent as an SMS to Miki's google phone\n",
    "* :WXBOT❏❏❏❏:94720 \n",
    "\n",
    "The message to WXBOT will result in an APRS message sent back to you with weather information at Berkeley. You will need to be receiving APRS messages at the time!\n",
    "\n",
    "The \"❏❏❏❏❏\" are blank spaces to fill the field to 9 characters.  \n",
    "\n",
    "Here's a link for information about [SMSGTE](https://smsgte.wixsite.com/smsgte) and [WXBOT](https://sites.google.com/site/ki6wjp/wxbot)\n",
    "\n",
    "Some radios implement message numbering, so packet repeating can be tracked. To number your message add the curly brackets symbol followed by the number. Often servers will acknowledge by sending you a confirmation back. \n",
    "\n",
    "For example, the first time you want to send an email to Miki put `{1` at the end of the message. second time put `{2` etc. \n",
    "* :EMAIL-2❏❏:mikilustig@berkeley.edu This message will send miki an email{1\n",
    "\n",
    "\n",
    "#### Position\n",
    "You can report your position to people on the APRS system. If your report is picked up by a node it will show up on http://www.aprs.fi. The basic format of a position packet is:\n",
    "\n",
    "| ! or = symbols | Latitude 8 chars | / | Longitude 9 chars| icon 1 char| Comment max 43 chars |\n",
    "|---------------|-------------------|---|------------------|------------|----------------------|\n",
    "| =             | 3752.50N|        /| 12215.43W|            K|Shows a school symbol on Cory Hall position|\n",
    "| =             |3752.45N |/|12215.98W|[|Shows a person walking on Oxford and Hearst|\n",
    "| =             |2759.16N |/|08655.30E|[|I'm on the top of the world! (Mt. Everest)|\n",
    "\n",
    "The latitude format is expressed as a fixed 8-character field, in degrees and decimal minutes (up to two decimal places), followed by a letter N for north and S for south. Latitude minutes are expressed as whole minutes and hundredths of a minute, separated by a decimal point. Longitude is expressed as a fixed 9-character field, in degrees and decimal minutes (to two decimal places), followed by the letter E for east or W for west. Longitude degrees are in the range 000 to 180. Longitude minutes are expressed as whole minutes and hundredths of a minute, separated by a decimal point.\n",
    "\n",
    "In generic format:\n",
    "\n",
    "* Latitude is expressed as: ddmm.hhN (i.e. degrees, minutes, and hundredths of a minute north)\n",
    "* Longitude is expressed as: dddmm.hhW (i.e. degrees, minutes, and hundredths of a minute west)\n",
    "\n",
    "For example Cory Hall is at N37° 52.5022', W122° 15.4395'. So the position is encoded as:\n",
    "3752.50N/12215.43W\n",
    "\n",
    "You can go to http://www.gpsvisualizer.com/geocode to find the coordinates of an address. Note: use the degree, minutes representation, not the decimal one. https://www.pgc.umn.edu/apps/convert/ will help you convert between decimal degrees and degress decimal minutes.\n",
    "\n",
    "a 1 character icon is provided after the coordinates. This will show an icon on the http://aprs.fi maps. Here are some useful ones:\n",
    "\n",
    "* \\- House with a VHF vertical\n",
    "*  < Motorcycle\n",
    "* \\> Car\n",
    "* Y Sailboat\n",
    "* b Bike\n",
    "* [ Jogger, walker, runner\n",
    "* X Helo\n",
    "* K School\n",
    "\n",
    "Examples:\n",
    "\n",
    "a school symbol \n",
    "* =3752.50N/12215.43WK Shows a school symbol on Cory Hall position.\n",
    "* =3752.45N/12215.98W[ Shows a person walking on Oxford and Hearst\n",
    "* =3752.❏❏N/12215.❏❏- Shows a house symbol somewhere in Berkeley.\n",
    "\n",
    "** The empty squares ❏ represent space characters **\n",
    "\n",
    "#### Status\n",
    "A status packet starts with a '>' character. It wil show on APRS equipped radios. \n",
    "\n",
    "Examples:\n",
    "\n",
    "*  \\>I like radios\n",
    "*  \\>Monitoring 146.430MHz PL 66\n",
    "*  \\>On My way home\n",
    "\n"
   ]
  },
  {
   "cell_type": "markdown",
   "metadata": {},
   "source": [
    "## Your first APRS packet\n",
    "In the following section we will construct a valid (bitstuffed) bitstream from the different APRS packet fields. We will convert to an NRZI representation and modulate to generate a valid AFSK1200 APRS Packet. We will transmit it over the radio and look at http://aprs.fi to see if it was received by a node. \n",
    "\n",
    "### Bitstream from APRS fields\n",
    "\n",
    "The following code shows you how to construct a message packet that will tell a digipeater to send you an SMS message. Make sure you fill the correct information in the fields. The bitstream will already be bitsuffed with zeroes. \n",
    "(SMSGTE, the server that sends SMS messages has added many features. Take a look at https://smsgte.org for more info)\n",
    "\n",
    "* Be aware that sending a message to your phone number will also mean that this number will show on the APRS network logs."
   ]
  },
  {
   "cell_type": "code",
   "execution_count": 13,
   "metadata": {},
   "outputs": [
    {
     "name": "stdout",
     "output_type": "stream",
     "text": [
      "KN6IDV-2>APCAL,WIDE1-1,WIDE2-1::SMSGTE   :@5109826314  ee123 aprs msg {1\n",
      "==>\n",
      "bitarray('011111100100000100000101011000010100000100011001000000100000011001101001001110010011011001001001000100010011010100100110011101010100100100010001010100010100011000000010010001100111010101001001000100010101000100100110000000101100011011000000000011110101110011001010101100101100101011100010001010101010001000000100000001000000010001011100000000101010110010001100000011001001110000011100010011000110110011001100100011000010110000000100000001001010011010100110100011000100110011001100000001001000011000001110010011101100111000000100101101101100111011100110000001001101111010001100011110010100000101111110')\n"
     ]
    }
   ],
   "source": [
    "import ax25\n",
    "\n",
    "# Enter your callsign, with SSID 2\n",
    "callsign = \"KN6IDV-2\"\n",
    "Digi =b'WIDE1-1,WIDE2-1'\n",
    "dest = \"APCAL\"\n",
    "\n",
    "\n",
    "# Uncomment to Send an SMS message to a phone number (update the number!)\n",
    "info = \":SMSGTE   :@5109826314  ee123 aprs msg {1\"\n",
    "#google voice #: ‪(510) 982-6314‬\n",
    "\n",
    "# Uncomment to send an email (update the email!)  leave the {1 at the end. You will see a reply from the server\n",
    "# on Direwolf. If you send more messages, increment the number {2 , {3 etc.\n",
    "#info = \":EMAIL-2  :bryang001@berkeley.edu EE123 is p cool ngl {2\"\n",
    "\n",
    "# uncomment to show yourself on mt everest\n",
    "#info = \"=2759.16N/08655.30E[I'm on the top of the world\"\n",
    "\n",
    "# uncomment to send to everyone on the APRS system near you\n",
    "# info = \":ALL      : CQCQCQ I would like to talk to you!\"\n",
    "\n",
    "# uncomment to report position\n",
    "# info = \"=3752.75N/12216.31WlIm using a laptop at home!\"\n",
    "\n",
    "# uncomment to send a status message\n",
    "#info = \">I like radios\"\n",
    "\n",
    "\n",
    "packet = ax25.UI(\n",
    "\t\tdestination=dest,\n",
    "\t\tsource=callsign, \n",
    "\t\tinfo=info,\n",
    "\t\tdigipeaters=Digi.split(b','),\n",
    "        )\n",
    "print(packet)\n",
    "print('==>')\n",
    "print(packet.unparse())"
   ]
  },
  {
   "cell_type": "markdown",
   "metadata": {},
   "source": [
    "### Converting a stream of bits to NRZI (zeros represent by change of 0-1 or 1-0 and ones are no change)\n",
    "Recall that AX.25 packets are sent with NRZI encoding in which a '0' is a change and a '1' is no change. \n",
    "\n",
    "* The following function `NRZI = NRZ2NRZI(bits)`,  takes a standard bitarray stream and converts it to a bitarray stream representing '0's as change and '1's as unchanged. For example, an input of 0000111100 will result in 0101111101. This assume an initial state of '1'. \n",
    "* The function `NRZI2NRZ(NRZI, current = True)`, takes an NRZI bitstream and converts it to an NRZ. It assumes an inital state of `current` with default `current=bool(1)`.\n"
   ]
  },
  {
   "cell_type": "code",
   "execution_count": 14,
   "metadata": {},
   "outputs": [],
   "source": [
    "def NRZ2NRZI(NRZ):\n",
    "    \n",
    "    NRZI = NRZ.copy() \n",
    "    current = True\n",
    "    for n in range(0,len(NRZ)):\n",
    "        if NRZ[n] :\n",
    "            NRZI[n] = current\n",
    "        else:\n",
    "            NRZI[n] = not(current)\n",
    "        current = NRZI[n]\n",
    "    return NRZI\n",
    "\n",
    "def NRZI2NRZ(NRZI, current = bool(1)):\n",
    "    \n",
    "    NRZ = NRZI.copy() \n",
    "    \n",
    "    for n in range(0,len(NRZI)):\n",
    "            NRZ[n] = NRZI[n] == current\n",
    "            current = NRZI[n]\n",
    "    return NRZ\n",
    "\n"
   ]
  },
  {
   "cell_type": "markdown",
   "metadata": {},
   "source": [
    "### Constructing and Transmitting an APRS AX.25 Packet. \n",
    "\n",
    "Most packet radio and TNC's will pad packets with extra `flag` sequences before and after the packet, to allow for synchronization. Rarely, the padding would be with zero-bit sequences (This will translate into alternating between Mark and Space which also helps with synchronization). Zero-padding is a deviation from the APRS protocol, but is allowed in most receivers. We will also pad our packets. \n",
    "\n",
    "#### Task 1:\n",
    "* Pad your packet with 40 flags in the begining and at the end.\n",
    "* Construct an afsk1200 signal at a sampling rate of 48KHz out of the padded APRS packet we constructed. \n",
    "* Play the audio through the portable speaker. Make sure you use the builtin audio and not the sound extension. It will sound like an old modem (which is what it is!)\n",
    "* Plot its spectrogram with a window size of 80 samples (2 bits). You should be able to see the bits. \n",
    "\n",
    "Here's a python trick to generate 40 flags:\n",
    "\n",
    "``prefix = bitarray.bitarray(np.tile([0,1,1,1,1,1,1,0],(40,)).tolist())``\n"
   ]
  },
  {
   "cell_type": "code",
   "execution_count": 15,
   "metadata": {
    "scrolled": false
   },
   "outputs": [
    {
     "name": "stdout",
     "output_type": "stream",
     "text": [
      "1\n"
     ]
    },
    {
     "data": {
      "image/png": "[encoded data removed]",
      "text/plain": [
       "<Figure size 1152x432 with 1 Axes>"
      ]
     },
     "metadata": {
      "needs_background": "light"
     },
     "output_type": "display_data"
    }
   ],
   "source": [
    "# Your code here:\n",
    "#pad packet\n",
    "prefix = bitarray.bitarray(np.tile([0,1,1,1,1,1,1,0],(40,)).tolist())\n",
    "pkt = prefix.copy()\n",
    "pkt.extend(packet.unparse())\n",
    "pkt.extend(prefix)\n",
    "#convert to NRZI\n",
    "pkt = NRZ2NRZI(pkt)\n",
    "#make AFSK1200 signal\n",
    "msg = afsk1200(pkt, fs=48000)\n",
    "\n",
    "\n",
    "        \n",
    "# play sound on builtin interface and listen through the speaker    \n",
    "sd.play(msg*0.2,samplerate=48000,device=builtin_idx,  blocking=True)\n",
    "tt,ff,xmf = myspectrogram_hann_ovlp(msg, 80, 48000.0, 0,dbf = 30)\n",
    "\n"
   ]
  },
  {
   "cell_type": "markdown",
   "metadata": {},
   "source": [
    "#### Task 2:\n",
    "#### Without a radio:\n",
    "\n",
    "* Make sure that direwolf is running\n",
    "* Send the APRS packet through the audio loopback.\n",
    "* Make sure your output volume and settings are the \"Good choice\" you calibrated in Lab 4 part I. This means you need to scale your audio by a factor <1.0. I use 0.1\n",
    "* We include a time.sleep() call so that we don't DDOS the APRS-IS servers which run the internet backbone of APRS.\n",
    "\n",
    "#### With your radio:\n",
    "\n",
    "**Uncomment the GPIO and time.sleep(0.4) lines, and comment the time.sleep(0.1) line so that your radio will be keyed.**\n",
    "* Make sure the audio interface is connected and that the audio device numbers are correct. \n",
    "* Connect the interface to your radio input.\n",
    "* Change loop_idx to usb_idx\n",
    "* Tune your radio to an experimental frequency (channels 71-98), or to the APRS national frequency: 144.39MHz or Channel 99 on your radio. \n",
    "* Send the APRS packet through your radio. As always it is better to be outside in a high place. If you are near Cory Hall you should be OK, we have an APRS internet gateway in Cory, and there are several others in the area as well.\n",
    "* Sometimes it is useful to send the packet twice, just to make sure it goes through. \n",
    "* Make sure your output volume and settings are the \"Good choice\" you calibrated in Lab 4 part I. This means you need to scale your audio by a factor <1.0. I use 0.1 \n",
    "* Be very carefull that your radio is operating appropriately, i.e., not getting stuck in transmit etc. We do not wish to interfere with the APRS network!\n",
    "* By using the command ``time.sleep(0.4)`` between keying the radio and playing the audio you will introduce a 400ms delay between keying and playing the sound. The idea here is to let time for the power amplifier to ramp up before transmitting. Padding the packet also helps. \n",
    "\n",
    "**You do not need to identify yourself, since your packet already identifies you!**\n"
   ]
  },
  {
   "cell_type": "code",
   "execution_count": 16,
   "metadata": {},
   "outputs": [],
   "source": [
    "# GPIO.output(PTT, GPIO.HIGH)\n",
    "# time.sleep(0.4)\n",
    "time.sleep(0.1)\n",
    "sd.play(msg*0.15,samplerate=48000,device=loop_idx,  blocking=True)\n",
    "# GPIO.output(PTT, GPIO.LOW)\n",
    "\n",
    "\n"
   ]
  },
  {
   "cell_type": "markdown",
   "metadata": {},
   "source": [
    "#### Important:\n",
    "\n",
    "* Did you get an SMS? If so, try sending a position report and check on https://aprs.fi. \n",
    "\n",
    "##### You can also search for your callsign in https://aprs.fi. and then press the raw-packets link. It will show you all the packets received from you in the last 48 hours. This is very useful for debugging!!!!!\n",
    "\n",
    "\n",
    "\n",
    "#### Task 3.1:\n",
    "\n",
    "* Please send an SMS message using the radio to (510)200-8498, give your name and a comment. I've created this google voice account for this purpose. "
   ]
  },
  {
   "cell_type": "code",
   "execution_count": 54,
   "metadata": {},
   "outputs": [
    {
     "name": "stdout",
     "output_type": "stream",
     "text": [
      "KN6IDV-2>APCAL,WIDE1-1,WIDE2-1::SMSGTE   :@5102008498  Bryan Yang ee123 is cool{1\n",
      "==>\n",
      "bitarray('011111100100000100000101011000010100000100011001000000100000011001101001001110010011011001001001000100010011010100100110011101010100100100010001010100010100011000000010010001100111010101001001000100010101000100100110000000101100011011000000000011110101110011001010101100101100101011100010001010101010001000000100000001000000010001011100000000101010110010001100000011000100110000001100000011000001110000101100100111000001110000000100000001000100001001001110100111101000011001110110000001001001101010000110011101101110011000000100101001101010011010001100010011001100110000000100100101101100111000000100110001101111011011110110001101101101111010001100111011000001011101111110')\n"
     ]
    }
   ],
   "source": [
    "# Send a message!\n",
    "# Enter your callsign, with SSID 2\n",
    "callsign = \"KN6IDV-2\"\n",
    "Digi =b'WIDE1-1,WIDE2-1'\n",
    "dest = \"APCAL\"\n",
    "\n",
    "# Uncomment to Send an SMS message to a phone number (update the number!)\n",
    "info = \":SMSGTE   :@5102008498  Bryan Yang ee123 is cool{1\"\n",
    "\n",
    "packet = ax25.UI(\n",
    "\t\tdestination=dest,\n",
    "\t\tsource=callsign, \n",
    "\t\tinfo=info,\n",
    "\t\tdigipeaters=Digi.split(b','),\n",
    "        )\n",
    "print(packet)\n",
    "print('==>')\n",
    "print(packet.unparse())"
   ]
  },
  {
   "cell_type": "code",
   "execution_count": 55,
   "metadata": {},
   "outputs": [],
   "source": [
    "prefix = bitarray.bitarray(np.tile([0,1,1,1,1,1,1,0],(40,)).tolist())\n",
    "pkt = prefix.copy()\n",
    "pkt.extend(packet.unparse())\n",
    "pkt.extend(prefix)\n",
    "#convert to NRZI\n",
    "pkt = NRZ2NRZI(pkt)\n",
    "#make AFSK1200 signal\n",
    "msg = afsk1200(pkt, fs=48000)\n",
    "\n",
    "time.sleep(0.1)\n",
    "sd.play(msg*0.15,samplerate=48000,device=loop_idx,  blocking=True)"
   ]
  },
  {
   "cell_type": "markdown",
   "metadata": {},
   "source": [
    "#### Task 3.2:\n",
    "\n",
    "* Send a position report -- Can you see yourself with the SSID-2 on aprs.fi?\n",
    "\n"
   ]
  },
  {
   "cell_type": "code",
   "execution_count": 56,
   "metadata": {},
   "outputs": [
    {
     "name": "stdout",
     "output_type": "stream",
     "text": [
      "KN6IDV-2>APCAL,WIDE1-1,WIDE2-1:=3752.75N/12216.31WlIm using a laptop at home!\n",
      "==>\n",
      "bitarray('01111110010000010000010101100001010000010001100100000010000001100110100100111001001101100100100100010001001101010010011001110101010010010001000101010001010001100000001001000110011101010100100100010001010100010010011000000010110001101100000000001111100111100110011001110110010101100010011000111010011101100101011000111001011110100100011000100110001001100100011000110110001110100110011001000110011101010001101101001001010110110000001001010111011001110100101100111011011100110000001001000011000000100001101101000011000001110001011101111011000001110000001001000011000101110000001000001011011110110101101101010011010000100110100110110011001111110')\n"
     ]
    }
   ],
   "source": [
    "# Send a position report\n",
    "# Enter your callsign, with SSID 2\n",
    "callsign = \"KN6IDV-2\"\n",
    "Digi =b'WIDE1-1,WIDE2-1'\n",
    "dest = \"APCAL\"\n",
    "\n",
    "# uncomment to report position\n",
    "info = \"=3752.75N/12216.31WlIm using a laptop at home!\"\n",
    "\n",
    "packet = ax25.UI(\n",
    "\t\tdestination=dest,\n",
    "\t\tsource=callsign, \n",
    "\t\tinfo=info,\n",
    "\t\tdigipeaters=Digi.split(b','),\n",
    "        )\n",
    "print(packet)\n",
    "print('==>')\n",
    "print(packet.unparse())\n"
   ]
  },
  {
   "cell_type": "code",
   "execution_count": 57,
   "metadata": {},
   "outputs": [],
   "source": [
    "prefix = bitarray.bitarray(np.tile([0,1,1,1,1,1,1,0],(40,)).tolist())\n",
    "pkt = prefix.copy()\n",
    "pkt.extend(packet.unparse())\n",
    "pkt.extend(prefix)\n",
    "#convert to NRZI\n",
    "pkt = NRZ2NRZI(pkt)\n",
    "#make AFSK1200 signal\n",
    "msg = afsk1200(pkt, fs=48000)\n",
    "\n",
    "time.sleep(0.1)\n",
    "sd.play(msg*0.15,samplerate=48000,device=loop_idx,  blocking=True)"
   ]
  },
  {
   "cell_type": "markdown",
   "metadata": {},
   "source": [
    "#### Task 3.3:\n",
    "\n",
    "* Send me an email at mikilustig@berkeley.edu, send yourself an email, send your parents or friends an email. \n"
   ]
  },
  {
   "cell_type": "code",
   "execution_count": 58,
   "metadata": {},
   "outputs": [
    {
     "name": "stdout",
     "output_type": "stream",
     "text": [
      "KN6IDV-2>APCAL,WIDE1-1,WIDE2-1::EMAIL-2  :bryang001@berkeley.edu EE123 is p cool ngl {2\n",
      "==>\n",
      "bitarray('011111100100000100000101011000010100000100011001000000100000011001101001001110010011011001001001000100010011010100100110011101010100100100010001010100010100011000000010010001100111010101001001000100010101000100100110000000101100011011000000000011110101110010100010101100101000001010010010001100101011010001001100000001000000010001011100010001100100111010011110100001100111011011100110000011000000110010001100000000100100011010100110010011101101011010100110001101101010011010011110011101001010011000100110101011100000010010100010101000101000110001001100110011000000010010010110110011100000010000001110000001001100011011110110111101100011011000000100011101101110011000110110000001001101111001001100111100010010101101111110')\n"
     ]
    }
   ],
   "source": [
    "# Send an email\n",
    "# Enter your callsign, with SSID 2\n",
    "callsign = \"KN6IDV-2\"\n",
    "Digi =b'WIDE1-1,WIDE2-1'\n",
    "dest = \"APCAL\"\n",
    "\n",
    "# Uncomment to send an email (update the email!)  leave the {1 at the end. You will see a reply from the server\n",
    "# on Direwolf. If you send more messages, increment the number {2 , {3 etc.\n",
    "info = \":EMAIL-2  :bryang001@berkeley.edu EE123 is p cool ngl {2\"\n",
    "\n",
    "packet = ax25.UI(\n",
    "\t\tdestination=dest,\n",
    "\t\tsource=callsign, \n",
    "\t\tinfo=info,\n",
    "\t\tdigipeaters=Digi.split(b','),\n",
    "        )\n",
    "print(packet)\n",
    "print('==>')\n",
    "print(packet.unparse())\n"
   ]
  },
  {
   "cell_type": "code",
   "execution_count": 59,
   "metadata": {},
   "outputs": [],
   "source": [
    "prefix = bitarray.bitarray(np.tile([0,1,1,1,1,1,1,0],(40,)).tolist())\n",
    "pkt = prefix.copy()\n",
    "pkt.extend(packet.unparse())\n",
    "pkt.extend(prefix)\n",
    "#convert to NRZI\n",
    "pkt = NRZ2NRZI(pkt)\n",
    "#make AFSK1200 signal\n",
    "msg = afsk1200(pkt, fs=48000)\n",
    "\n",
    "time.sleep(0.1)\n",
    "sd.play(msg*0.15,samplerate=48000,device=loop_idx,  blocking=True)"
   ]
  },
  {
   "cell_type": "markdown",
   "metadata": {},
   "source": [
    "#### Task 3.4:\n",
    "\n",
    "* Send a status report message. \n",
    "\n"
   ]
  },
  {
   "cell_type": "code",
   "execution_count": 60,
   "metadata": {},
   "outputs": [
    {
     "name": "stdout",
     "output_type": "stream",
     "text": [
      "KN6IDV-2>APCAL,WIDE1-1,WIDE2-1:>Testing APRS on direwolf\n",
      "==>\n",
      "bitarray('01111110010000010000010101100001010000010001100100000010000001100110100100111001001101100100100100010001001101010010011001110101010010010001000101010001010001100000001001000110011101010100100100010001010100010010011000000010110001101100000000001111011111000001010101010011011001110001011101001011001110110111001100000010010000010000010100100101011001010000001001111011001110110000001000010011010010110010011101010011011101110111101100011011001100110001011000100110101111110')\n"
     ]
    }
   ],
   "source": [
    "# Send a status report\n",
    "# Enter your callsign, with SSID 2\n",
    "callsign = \"KN6IDV-2\"\n",
    "Digi =b'WIDE1-1,WIDE2-1'\n",
    "dest = \"APCAL\"\n",
    "\n",
    "# uncomment to send a status message\n",
    "info = \">Testing APRS on direwolf\"\n",
    "\n",
    "\n",
    "packet = ax25.UI(\n",
    "\t\tdestination=dest,\n",
    "\t\tsource=callsign, \n",
    "\t\tinfo=info,\n",
    "\t\tdigipeaters=Digi.split(b','),\n",
    "        )\n",
    "print(packet)\n",
    "print('==>')\n",
    "print(packet.unparse())\n"
   ]
  },
  {
   "cell_type": "code",
   "execution_count": 61,
   "metadata": {},
   "outputs": [],
   "source": [
    "prefix = bitarray.bitarray(np.tile([0,1,1,1,1,1,1,0],(40,)).tolist())\n",
    "pkt = prefix.copy()\n",
    "pkt.extend(packet.unparse())\n",
    "pkt.extend(prefix)\n",
    "#convert to NRZI\n",
    "pkt = NRZ2NRZI(pkt)\n",
    "#make AFSK1200 signal\n",
    "msg = afsk1200(pkt, fs=48000)\n",
    "\n",
    "time.sleep(0.1)\n",
    "sd.play(msg*0.15,samplerate=48000,device=loop_idx,  blocking=True)"
   ]
  },
  {
   "cell_type": "markdown",
   "metadata": {},
   "source": [
    "## Decoding AX.25 and APRS Packets\n",
    "\n",
    "Now that we know how to create AX.25 and APRS packets, know how to AFSK1200 modulate them, know how to demodulate AFSK1200 as well, we can move forward to receiving and decoding packets. By the end of that we will have a fully functioning communication system.\n",
    "\n",
    "Make sure the file `ISSpkt.wav` is in your working directoy. It contains an APRS packet I recorded on one of the International Space Station flybys. Load it to your workspace using the function `wavread`, which we imported from `scipy.io`.\n",
    "(ISSpkt.wav) \n"
   ]
  },
  {
   "cell_type": "code",
   "execution_count": 17,
   "metadata": {},
   "outputs": [],
   "source": [
    "fs,sig = wavread(\"ISSpkt.wav\")"
   ]
  },
  {
   "cell_type": "markdown",
   "metadata": {},
   "source": [
    "We will now automate the packet decoding by writing some functions that implement portions of the process.\n",
    "\n",
    "* Run the function `nc_afsk1200Demod` on the ISS packet to get the demodulated \"analog\" NRZI\n",
    "* Plot the signal. It should look like a signal with $\\pm$ positive negative switching!"
   ]
  },
  {
   "cell_type": "code",
   "execution_count": 18,
   "metadata": {},
   "outputs": [
    {
     "data": {
      "text/plain": [
       "[<matplotlib.lines.Line2D at 0x67de3070>]"
      ]
     },
     "execution_count": 18,
     "metadata": {},
     "output_type": "execute_result"
    },
    {
     "data": {
      "image/png": "[encoded data removed]",
      "text/plain": [
       "<Figure size 1152x288 with 1 Axes>"
      ]
     },
     "metadata": {
      "needs_background": "light"
     },
     "output_type": "display_data"
    }
   ],
   "source": [
    "# Your code\n",
    "nrz = nc_afsk1200Demod(sig, fs=fs)\n",
    "plt.figure(figsize=(16,4))\n",
    "plt.plot(nrz)\n"
   ]
  },
  {
   "cell_type": "markdown",
   "metadata": {},
   "source": [
    "### Decoding Bits from the Demodulated NRZI Signal\n",
    "\n",
    "Once we demodulated the signal, the next task is to sample and look for packets in it! There are many ways to do so. We chose one similar to the DireWolfe implementation:\n",
    "\n",
    "* Use the PLL to determine where to sample and get an output NRZI bitstream.\n",
    "* Convert the NRZI to NRZ\n",
    "* Search the bits and look for flags that indicate the existance of a packet. Of course, there may be many false detection. Hence, consider any flag is end of a packet, or beginning of a new one.\n",
    "* Discard packets that are too short, or that the checksum does not match.\n",
    "\n",
    "Below are several functions we wrote for you:\n",
    "\n",
    "* `findPackets(bits)` - Searches a bitstream for possible valid packets\n",
    "* `genfcs(bits)` - generates a checksum for validating packets\n",
    "* `decodeAX25(bits)`  - Parses a packet bitstream into fields and decodes them\n",
    "\n",
    "Study well these functions, and in particularly `findPackets(bits)`. You will need to modify it when performing stream processing.\n"
   ]
  },
  {
   "cell_type": "code",
   "execution_count": 19,
   "metadata": {},
   "outputs": [],
   "source": [
    "def findPackets(bits):\n",
    "        # function take a bitarray and looks for AX.25 packets in it. \n",
    "        # It implements a 2-state machine of searching for flag or collecting packets\n",
    "                \n",
    "        flg = bitarray.bitarray([0,1,1,1,1,1,1,0])\n",
    "        packets = []\n",
    "        n = 0\n",
    "        pktcounter = 0\n",
    "        packet = []\n",
    "        state = 'search'\n",
    "        \n",
    "        # Loop over bits\n",
    "        while (n < len(bits)-7) :\n",
    "            \n",
    "            # default state is searching for packets\n",
    "            if state is 'search':\n",
    "                \n",
    "                # look for 1111110, because can't be sure if the first zero is decoded\n",
    "                # well or if the packet is not padded.\n",
    "                if bits[n:n+7] == flg[1:]:\n",
    "                    \n",
    "                    # flag detected, so switch state to collecting bits in a packet\n",
    "                    # start by copying the flag to the packet\n",
    "                    # start counter to count the number of bits in the packet\n",
    "                    state = 'pkt'\n",
    "                    packet=flg.copy()\n",
    "                    pktcounter = 8                    \n",
    "                    # Advance to the end of the flag\n",
    "                    n = n + 7\n",
    "                else:\n",
    "                    # flag was not found, advance by 1\n",
    "                    n = n + 1            \n",
    "        \n",
    "            # state is to collect packet data. \n",
    "            elif state is 'pkt':\n",
    "                \n",
    "                # Check if we reached a flag by comparing with 0111111\n",
    "                # 6 times ones is not allowed in a packet, hence it must be a flag (if there's no error)\n",
    "                if bits[n:n+7] == flg[:7]:\n",
    "                    # Flag detected, check if packet is longer than some minimum\n",
    "                    if pktcounter > 200:\n",
    "                        # End of packet reached! append packet to list and switch to searching state\n",
    "                        # We don't advance pointer since this our packet might have been\n",
    "                        # false detection and this flag could be the beginning of a real packet\n",
    "                        state = 'search'\n",
    "                        packet.extend(flg)\n",
    "                        packets.append(packet.copy())\n",
    "                    else:\n",
    "                        # packet is too short! false alarm. Keep searching \n",
    "                        # We don't advance pointer since this this flag could be the beginning of a real packet\n",
    "                        state = 'search'\n",
    "                # No flag, so collect the bit and add to the packet\n",
    "                else:\n",
    "                    # check if packet is too long... if so, must be false alarm\n",
    "                    if pktcounter < 2680:\n",
    "                        # Not a false alarm, collect the bit and advance pointer                        \n",
    "                        packet.append(bits[n])\n",
    "                        pktcounter = pktcounter + 1\n",
    "                        n = n + 1\n",
    "                    else:  \n",
    "                        #runaway packet, switch state to searching, and advance pointer\n",
    "                        state = 'search'\n",
    "                        n = n + 1\n",
    "        return packets\n",
    "\n",
    "\n",
    "\n",
    "\n",
    "# function to generate a checksum for validating packets\n",
    "def genfcs(bits):\n",
    "    # Generates a checksum from packet bits\n",
    "    fcs = ax25.FCS()\n",
    "    for bit in bits:\n",
    "        fcs.update_bit(bit)\n",
    "    \n",
    "    digest = bitarray.bitarray(endian=\"little\")\n",
    "    digest.frombytes(fcs.digest())\n",
    "\n",
    "    return digest\n",
    "\n",
    "\n",
    "\n",
    "\n",
    "# function to parse packet bits to information\n",
    "def decodeAX25(bits):\n",
    "    ax = ax25.AX25()\n",
    "    ax.info = \"bad packet\"\n",
    "    \n",
    "    \n",
    "    # bits without pre/post - ambles\n",
    "    bitsu = ax25.bit_unstuff(bits[8:-8])\n",
    "    \n",
    "    if (genfcs(bitsu[:-16]).tobytes() == bitsu[-16:].tobytes()) == False:\n",
    "        #print(\"failed fcs\")\n",
    "        return ax\n",
    "    \n",
    "    bytes = bitsu.tobytes()\n",
    "    ax.destination = ax.callsign_decode(bitsu[:56]).decode('ascii')\n",
    "    source = ax.callsign_decode(bitsu[56:112]).decode('ascii')\n",
    "    \n",
    "    if source[-1].isdigit() and source[-1]!=\"0\":\n",
    "        ax.source = \"\".join((source[:-1],'-',source[-1]))\n",
    "    else:\n",
    "        ax.source = source[:-1]\n",
    "    \n",
    "    digilen=0    \n",
    "    \n",
    "    if bytes[14]=='\\x03' and bytes[15]=='\\xf0':\n",
    "        digilen = 0\n",
    "    else:\n",
    "        for n in range(14,len(bytes)-1):\n",
    "            if bytes[n] & 1:\n",
    "                digilen = (n-14)+1\n",
    "                break\n",
    "\n",
    "#    if digilen > 56:\n",
    "#        return ax\n",
    "    ax.digipeaters =  ax.callsign_decode(bitsu[112:112+digilen*8]).decode('ascii')\n",
    "    ax.info = bitsu[112+digilen*8+16:-16].tobytes().decode('ascii')\n",
    "    \n",
    "    return ax\n",
    "\n",
    "\n",
    "    \n"
   ]
  },
  {
   "cell_type": "markdown",
   "metadata": {},
   "source": [
    "#### Task 4:\n",
    "\n",
    "* Use the pll to find the sampling index of the analog NRZI\n",
    "* Sample and convert to a bitarray (True is positive NRZI, False is negative NRZI)\n",
    "* Convert the NRZI bits to NRZ\n",
    "* Use `findPackets` to find packet in the bitstream\n",
    "* Save the packet into `packets` variable and run the following decoding\n",
    "\n",
    "You should get this when decoding properly:\n",
    "\n",
    "`1) | DEST:CQ    0 | SRC: RS0ISS | DIGI:  | ARISS - International Space Station |`"
   ]
  },
  {
   "cell_type": "code",
   "execution_count": 20,
   "metadata": {},
   "outputs": [
    {
     "name": "stderr",
     "output_type": "stream",
     "text": [
      "/usr/local/lib/python3.5/dist-packages/ipykernel_launcher.py:84: RuntimeWarning: overflow encountered in long_scalars\n"
     ]
    },
    {
     "name": "stdout",
     "output_type": "stream",
     "text": [
      "[bitarray('0111111001100001010001010000001000000010000000100000001000000110001001010110010100000110010010010110010101100101100001111100000000000111101111100010000010010010101001001011001010110010100000010010110100000001001001001001110110001011101010011001001110011101101000011000101110100101101111011001110110100001100011011000000100110010100000111010000110110001101010011000000100110010100010111010000110001011101001011011110110011101101101111100010000101111110')]\n"
     ]
    }
   ],
   "source": [
    "# your code\n",
    "idx = PLL(nrz, fs=fs)\n",
    "nrzi_ba = bitarray.bitarray([True if nrz[i] > 0 else False for i in idx])\n",
    "nrz_ba = NRZI2NRZ(nrzi_ba)\n",
    "packets = findPackets(nrz_ba)\n",
    "\n",
    "print(packets)"
   ]
  },
  {
   "cell_type": "code",
   "execution_count": 21,
   "metadata": {},
   "outputs": [
    {
     "name": "stdout",
     "output_type": "stream",
     "text": [
      " 1) | DEST: CQ    0 | SRC: RS0ISS | DIGI: \u0001 | ARISS - International Space Station |\n"
     ]
    }
   ],
   "source": [
    "# Code to display packets\n",
    "\n",
    "npack = 0\n",
    "for pkt in packets:\n",
    "    if len(pkt) > 200: \n",
    "        ax = decodeAX25(pkt)\n",
    "        if ax.info != 'bad packet':\n",
    "            npack = npack+1\n",
    "            infostr = \"%(n) 2i) | DEST: %(dest)s | SRC: %(src)s | DIGI: %(digi)s | %(info)s |\" % {\n",
    "                        'n': npack,\n",
    "                        'dest': ax.destination,\n",
    "                        'src': ax.source,\n",
    "                        'digi': ax.digipeaters,\n",
    "                        'info': ax.info.strip()\n",
    "            }\n",
    "            print(infostr)\n",
    "        else:\n",
    "            print(\"bad packet\")"
   ]
  },
  {
   "cell_type": "markdown",
   "metadata": {},
   "source": [
    "### Testing on more packets\n",
    "\n",
    "Now, lets try our decoder on a noisy recording with many more packets. \n",
    "\n",
    "#### Task 5:\n",
    "* Load the full recording of the pass, which is stored in `ISS.wav`. It's a 3min recording.   \n",
    "* Process the signal and decode all the packets. My decoder decodes 24 packets successfully\n",
    "\n",
    "\n",
    "##### In python, implementing the PLL with for loops is inefficient. You can still run your own PLL, but the processing time may be too long. Instead, we wrote a simple C function, which runs incredibly fast. We use the ctypes interface to call the C function from python.  Below is the code necessary to run the fast PLL.  FastPLL can replace the PLL you wrote. Make sure libpll.so is in your operating directory. Take a look at pll.c to see how it was implemented. It is very similar to the python version. "
   ]
  },
  {
   "cell_type": "code",
   "execution_count": 22,
   "metadata": {},
   "outputs": [],
   "source": [
    "# Build libpll.so\n",
    "!cc -fPIC -shared -o libpll.so pll.c"
   ]
  },
  {
   "cell_type": "code",
   "execution_count": 23,
   "metadata": {},
   "outputs": [],
   "source": [
    "import numpy.ctypeslib as npct\n",
    "from ctypes import c_int\n",
    "from ctypes import c_float\n",
    "\n",
    "array_1d_int = npct.ndpointer(dtype=np.int, ndim=1, flags='CONTIGUOUS')\n",
    "\n",
    "libcd = npct.load_library(\"./libpll\", \".\")\n",
    "libcd.pll.restype = c_int\n",
    "libcd.pll.argtypes= [array_1d_int, c_int, array_1d_int,array_1d_int,  array_1d_int,array_1d_int, c_int, c_float]"
   ]
  },
  {
   "cell_type": "code",
   "execution_count": 24,
   "metadata": {},
   "outputs": [],
   "source": [
    "def FastPLL(NRZa, a = 0.74 , fs = 48000, baud = 1200):    \n",
    "    \n",
    "    Ns = 1.0*fs/baud\n",
    "    dpll = np.round(2**32 / Ns).astype(np.int32)\n",
    "    \n",
    "    # allocate space for arrays and initialize pll variables\n",
    "    recbits = np.zeros(len(NRZa)//(fs//1200)*2,dtype=np.int32)\n",
    "    idx = np.zeros(len(NRZa)//(fs//1200)*2,dtype=np.int32)\n",
    "    pll = np.zeros(1,dtype = np.int32)\n",
    "    pll[0] = 0\n",
    "    ppll = np.zeros(1,dtype = np.int32)\n",
    "    ppll[0] =  -dpll\n",
    "        \n",
    "        \n",
    "        \n",
    "    NRZb = (NRZa > 0).astype(np.int32)\n",
    "    tot = libcd.pll(NRZb,len(NRZb),recbits,idx,pll,ppll,dpll,a)\n",
    "        \n",
    "    return idx[:tot].tolist()"
   ]
  },
  {
   "cell_type": "code",
   "execution_count": 25,
   "metadata": {},
   "outputs": [],
   "source": [
    "fs, sig = wavread(\"ISS.wav\")\n",
    "\n",
    "\n",
    "# Your code here:\n",
    "nrzia = nc_afsk1200Demod(sig, fs=fs)\n",
    "idx = FastPLL(nrzia, fs=fs)\n",
    "nrzi_ba = bitarray.bitarray([True if nrzia[i] > 0 else False for i in idx])\n",
    "nrz_ba = NRZI2NRZ(nrzi_ba)\n",
    "packets = findPackets(nrz_ba)\n",
    "\n"
   ]
  },
  {
   "cell_type": "code",
   "execution_count": 26,
   "metadata": {},
   "outputs": [
    {
     "name": "stdout",
     "output_type": "stream",
     "text": [
      " 1) | DEST: CQ    0 | SRC: RS0ISS | DIGI: \u0001 | ARISS - International Space Station |\n",
      " 2) | DEST: CQ    p | SRC: N7HQB  | DIGI: RS0ISSp | =4038.2604n/11155.90744w-HELLO FROM N7HQB IN SLC UTAH! |\n",
      " 3) | DEST: CQ    0 | SRC: N7NEV  | DIGI: RS0ISSpWIDE2 2WIDE1 1 | >CQCQCQ |\n",
      " 4) | DEST: CQ    p | SRC: N7HQB  | DIGI: RS0ISSp | HELO VIA THE ISS |\n",
      " 5) | DEST: CQ    0 | SRC: K7RFK  | DIGI: RS0ISSp |  |\n",
      " 6) | DEST: CQ    0 | SRC: K7RFK  | DIGI: RS0ISSp |  |\n",
      " 7) | DEST: ARISS p | SRC: KF1BUZ | DIGI: RS0ISSpAPRS  0WIDE2 2SGATE 0ISS   0IGATE 0PCSAT 0BEACON0 | =3932.15N/11951.16Wy.kf1buz and k1gem say hi from reno nv |\n",
      " 8) | DEST: CQ    0 | SRC: K7RFK  | DIGI: RS0ISSp |  |\n",
      " 9) | DEST: CQ    0 | SRC: N7NEV  | DIGI: RS0ISSpWIDE2 2WIDE1 1 | >from DM43 |\n",
      " 10) | DEST: CQ    p | SRC: N7HQB  | DIGI: RS0ISSp | =4038.2604n/11155.90744w-HELLO FROM N7HQB IN SLC UTAH! |\n",
      " 11) | DEST: CQ    p | SRC: N7HQB  | DIGI: RS0ISSp | HELLO VIA THE ISS |\n",
      " 12) | DEST: CQ    0 | SRC: K7RFK  | DIGI: RS0ISSp | =4635.49N/12032.27W- |\n",
      " 13) | DEST: CQ    p | SRC: N7HQB  | DIGI: RS0ISSp | =4038.2604n/11155.90744w-HELLO FROM N7HQB IN SLC UTAH! |\n",
      " 14) | DEST: CQ    p | SRC: N7HQB  | DIGI: RS0ISSp | CQ |\n",
      " 15) | DEST: CQ    p | SRC: N7HQB  | DIGI: RS0ISSp | HELLO |\n",
      " 16) | DEST: CQ    p | SRC: N7HQB  | DIGI: RS0ISSp | HELLO VIA THE ISS |\n",
      " 17) | DEST: CQ    0 | SRC: K7RFK  | DIGI: RS0ISSp | >CN96 |\n",
      " 18) | DEST: CQ    0 | SRC: RS0ISS | DIGI: \u0001 | ARISS - International Space Station |\n",
      " 19) | DEST: CQ    0 | SRC: K7RFK  | DIGI: RS0ISSp | >CN96 |\n",
      " 20) | DEST: ARISS p | SRC: KF1BUZ | DIGI: RS0ISSpAPRS  0WIDE2 2SGATE 0ISS   0IGATE 0PCSAT 0BEACON0 | =3932.15N/11951.16Wy.kf1buz and k1gem say hi from reno nv |\n",
      " 21) | DEST: CQ    0 | SRC: K7RFK  | DIGI: RS0ISSp |  |\n",
      " 22) | DEST: ARISS p | SRC: KF1BUZ | DIGI: RS0ISSpAPRS  0WIDE2 2SGATE 0ISS   0IGATE 0PCSAT 0BEACON0 | =3932.15N/11951.16Wy.kf1buz and k1gem say hi from reno nv |\n",
      " 23) | DEST: CQ    0 | SRC: K7RFK  | DIGI: RS0ISSp |  |\n",
      " 24) | DEST: CQ    p | SRC: N7HQB  | DIGI: RS0ISSp | TEST |\n"
     ]
    }
   ],
   "source": [
    "# display packets\n",
    "\n",
    "npack = 0\n",
    "for pkt in packets:\n",
    "        if len(pkt) > 200: \n",
    "            ax = decodeAX25(pkt)\n",
    "            if ax.info != 'bad packet':\n",
    "                npack = npack+1\n",
    "                # print(str(npack)+\") |DEST:\"+ax.destination[:-1]+\" |SRC:\" + ax.source + \" |DIGI:\" + ax.digipeaters + \" |\" + ax.info + \"|\")\n",
    "                infostr = \"%(n) 2i) | DEST: %(dest)s | SRC: %(src)s | DIGI: %(digi)s | %(info)s |\" % {\n",
    "                        'n': npack,\n",
    "                        'dest': ax.destination,\n",
    "                        'src': ax.source,\n",
    "                        'digi': ax.digipeaters,\n",
    "                        'info': ax.info.strip()\n",
    "                    }\n",
    "                print(infostr)\n",
    "\n"
   ]
  },
  {
   "cell_type": "markdown",
   "metadata": {},
   "source": [
    "#### Did you get 24 packets?"
   ]
  },
  {
   "cell_type": "markdown",
   "metadata": {},
   "source": []
  },
  {
   "cell_type": "markdown",
   "metadata": {},
   "source": [
    "### Test Loop-back audio\n",
    "#### Task 6:\n",
    "\n",
    "The next step is to test a loop-back in which you send audio and also receive and decode audio.  There are several options. \n",
    "\n",
    "1. Send audio through a physical audio device when its output and input are connected through a cable. To do so, \n",
    "\n",
    "connect an audio cable between the `LINEIN` and `LINEOUT` of the sound extension, making a loop-back.\n",
    "\n",
    "##### *****Alternative setup:  If you are working in-person with a partner, connect your LINEOUT port into your partner's LINEIN port on your sound extension or vice versa. Try to pass the packets to your partner. \n",
    "\n",
    "<img src=\"./loopback.png\" alt=\"Drawing\" style=\"height: 200px;\"/>\n",
    "\n",
    "2. Send audio through a software loopback -- for this, you need to stop Direwolf.\n",
    "\n",
    "3. Send audio to DireWolf. Direwolf will repeat your message and you will record the audio and decode the message. For this, keep Direwolf running. \n",
    "\n"
   ]
  },
  {
   "cell_type": "markdown",
   "metadata": {},
   "source": [
    "#### Task 7:\n",
    "\n",
    "* Generate 3 flag-padded packets, with **different** information in them. Have at least 40 flags before and after a packet. \n",
    "* Create the afsk1200 signal for each of the packets. \n",
    "* Before you transmit, add to the modulated message 5 seconds of zeros at the end. (That would be 240,000 samples)\n",
    "\n",
    "\n"
   ]
  },
  {
   "cell_type": "code",
   "execution_count": 27,
   "metadata": {},
   "outputs": [],
   "source": [
    "callsign = \"KN6IDV-2\"\n",
    "Digi =b'WIDE1-1,WIDE2-1'\n",
    "dest = \"APCAL\"\n",
    "\n",
    "# Uncomment to Send an SMS message to a phone number (update the number!)\n",
    "info = \":SMSGTE   :@5109826314  have you ever{2\"\n",
    "\n",
    "packet1 = ax25.UI(\n",
    "\t\tdestination=dest,\n",
    "\t\tsource=callsign, \n",
    "\t\tinfo=info,\n",
    "\t\tdigipeaters=Digi.split(b','),\n",
    "        )\n",
    "\n",
    "prefix = bitarray.bitarray(np.tile([0,1,1,1,1,1,1,0],(40,)).tolist())\n",
    "pkt = prefix.copy()\n",
    "pkt.extend(packet1.unparse())\n",
    "pkt.extend(prefix)\n",
    "#convert to NRZI\n",
    "pkt = NRZ2NRZI(pkt)\n",
    "#make AFSK1200 signal\n",
    "msg1 = afsk1200(pkt, fs=48000)\n",
    "\n",
    "info = \":SMSGTE   :@5109826314  heard the tragedy of{3\"\n",
    "\n",
    "packet2 = ax25.UI(\n",
    "\t\tdestination=dest,\n",
    "\t\tsource=callsign, \n",
    "\t\tinfo=info,\n",
    "\t\tdigipeaters=Digi.split(b','),\n",
    "        )\n",
    "\n",
    "prefix = bitarray.bitarray(np.tile([0,1,1,1,1,1,1,0],(40,)).tolist())\n",
    "pkt = prefix.copy()\n",
    "pkt.extend(packet2.unparse())\n",
    "pkt.extend(prefix)\n",
    "#convert to NRZI\n",
    "pkt = NRZ2NRZI(pkt)\n",
    "#make AFSK1200 signal\n",
    "msg2 = afsk1200(pkt, fs=48000)\n",
    "\n",
    "info = \":SMSGTE   :@5109826314  Darth Plagueis the Wise{4\"\n",
    "\n",
    "packet3 = ax25.UI(\n",
    "\t\tdestination=dest,\n",
    "\t\tsource=callsign, \n",
    "\t\tinfo=info,\n",
    "\t\tdigipeaters=Digi.split(b','),\n",
    "        )\n",
    "\n",
    "prefix = bitarray.bitarray(np.tile([0,1,1,1,1,1,1,0],(40,)).tolist())\n",
    "pkt = prefix.copy()\n",
    "pkt.extend(packet3.unparse())\n",
    "pkt.extend(prefix)\n",
    "#convert to NRZI\n",
    "pkt = NRZ2NRZI(pkt)\n",
    "#make AFSK1200 signal\n",
    "msg3 = afsk1200(pkt, fs=48000)\n",
    "\n",
    "mega_msg = np.append(msg1, np.append(msg2, msg3))"
   ]
  },
  {
   "cell_type": "code",
   "execution_count": 28,
   "metadata": {},
   "outputs": [
    {
     "name": "stdout",
     "output_type": "stream",
     "text": [
      "[0.95881973 0.83867057 0.64944805 ... 0.85940641 0.92880955 0.97534232]\n",
      "[0.95881973 0.83867057 0.64944805 ... 0.         0.         0.        ]\n",
      "(392317,)\n"
     ]
    }
   ],
   "source": [
    "print(mega_msg)\n",
    "mega_msg = np.append(mega_msg, [0]*240000)\n",
    "print(mega_msg)\n",
    "print(mega_msg.shape)"
   ]
  },
  {
   "cell_type": "code",
   "execution_count": 29,
   "metadata": {},
   "outputs": [
    {
     "name": "stdout",
     "output_type": "stream",
     "text": [
      "1\n"
     ]
    },
    {
     "data": {
      "image/png": "[encoded data removed]",
      "text/plain": [
       "<Figure size 1152x432 with 1 Axes>"
      ]
     },
     "metadata": {
      "needs_background": "light"
     },
     "output_type": "display_data"
    }
   ],
   "source": [
    "tt,ff,xmf = myspectrogram_hann_ovlp(mega_msg, 80, 48000.0, 0,dbf = 30)"
   ]
  },
  {
   "cell_type": "markdown",
   "metadata": {},
   "source": [
    "#### Task 8:\n",
    "* use ``sd.playrec`` to play and record the packets. The audio level will be different to what you are used to with the radio -- so adjust accordingly. \n",
    "* Decode the the packets from the recording\n",
    "* Also, make a plot of the beginning 5000 samples of the audio recording. Make sure its not saturated!\n",
    "\n",
    "```python\n",
    "# Physical loopback\n",
    "sig = sd.playrec(msg*0.2,samplerate=48000,device=usb_idx,channels=1,blocking=True,dtype=np.float32)\n",
    "# Software loopback\n",
    "sig = sd.playrec(msg*0.2,samplerate=48000,device=(loop_idx,loop_idx_rcv),channels=1,blocking=True,dtype=np.float32)\n",
    "# Dirwolf loopback\n",
    "sig = sd.playrec(msg*0.2,samplerate=48000,device=loop_idx,channels=1,blocking=False,dtype=np.float32)\n",
    "```\n",
    "\n",
    "Don't forget to use ``sig = sig.flatten()`` to turn it into size of ``(len(sig),)`` instead of ``(len(sig),1)``"
   ]
  },
  {
   "cell_type": "code",
   "execution_count": 30,
   "metadata": {},
   "outputs": [],
   "source": [
    "# Your code here\n",
    "# Physical loopback\n",
    "sig = sd.playrec(mega_msg*0.2,samplerate=48000,device=usb_idx,channels=1,blocking=True,dtype=np.float32)\n",
    "# Software loopback\n",
    "#sig = sd.playrec(mega_msg*0.2,samplerate=48000,device=(loop_idx,loop_idx_rcv),channels=1,blocking=True,dtype=np.float32)\n",
    "# Dirwolf loopback\n",
    "#sig = sd.playrec(mega_msg*0.2,samplerate=48000,device=loop_idx,channels=1,blocking=False,dtype=np.float32)\n"
   ]
  },
  {
   "cell_type": "code",
   "execution_count": 31,
   "metadata": {},
   "outputs": [
    {
     "data": {
      "text/plain": [
       "[<matplotlib.lines.Line2D at 0x63a617d0>]"
      ]
     },
     "execution_count": 31,
     "metadata": {},
     "output_type": "execute_result"
    },
    {
     "data": {
      "image/png": "[encoded data removed]",
      "text/plain": [
       "<Figure size 1152x288 with 1 Axes>"
      ]
     },
     "metadata": {
      "needs_background": "light"
     },
     "output_type": "display_data"
    }
   ],
   "source": [
    "# Plot\n",
    "sig = sig.flatten()\n",
    "plt.figure(figsize=(16,4))\n",
    "plt.plot(sig[:5000])\n"
   ]
  },
  {
   "cell_type": "code",
   "execution_count": 32,
   "metadata": {},
   "outputs": [],
   "source": [
    "# Decode packets\n",
    "\n",
    "nrzia = nc_afsk1200Demod(sig, fs=48000)\n",
    "idx = FastPLL(nrzia, fs=48000)\n",
    "nrzi_ba = bitarray.bitarray([True if nrzia[i] > 0 else False for i in idx])\n",
    "nrz_ba = NRZI2NRZ(nrzi_ba)\n",
    "packets = findPackets(nrz_ba)\n",
    "\n"
   ]
  },
  {
   "cell_type": "code",
   "execution_count": 33,
   "metadata": {},
   "outputs": [
    {
     "name": "stdout",
     "output_type": "stream",
     "text": [
      " 1) | DEST: APCAL 0 | SRC: KN6IDV-2 | DIGI: WIDE1 1WIDE2 1 | :SMSGTE   :@5109826314  have you ever{2 |\n",
      " 2) | DEST: APCAL 0 | SRC: KN6IDV-2 | DIGI: WIDE1 1WIDE2 1 | :SMSGTE   :@5109826314  heard the tragedy of{3 |\n",
      " 3) | DEST: APCAL 0 | SRC: KN6IDV-2 | DIGI: WIDE1 1WIDE2 1 | :SMSGTE   :@5109826314  Darth Plagueis the Wise{4 |\n"
     ]
    }
   ],
   "source": [
    "# display packets:\n",
    "\n",
    "\n",
    "npack = 0\n",
    "for pkt in packets:\n",
    "        if len(pkt) > 200: \n",
    "            ax = decodeAX25(pkt)\n",
    "            if ax.info != 'bad packet':\n",
    "                npack = npack+1\n",
    "                # print(str(npack)+\") |DEST:\"+ax.destination[:-1]+\" |SRC:\" + ax.source + \" |DIGI:\" + ax.digipeaters + \" |\" + ax.info + \"|\")\n",
    "                infostr = \"%(n) 2i) | DEST: %(dest)s | SRC: %(src)s | DIGI: %(digi)s | %(info)s |\" % {\n",
    "                        'n': npack,\n",
    "                        'dest': ax.destination,\n",
    "                        'src': ax.source,\n",
    "                        'digi': ax.digipeaters,\n",
    "                        'info': ax.info.strip()\n",
    "                    }\n",
    "                print(infostr)\n",
    "\n",
    "\n",
    "\n"
   ]
  },
  {
   "cell_type": "markdown",
   "metadata": {},
   "source": [
    "#### Task 9:\n",
    "Now run Direwolf again.  Direwolf repeats messages it gets from APRS-IS to be transmitted on the audio loopback device. So, if we record 60 seconds of audio from the device loop_idx, it is likely that we will record packets. \n",
    "\n",
    "While recording sound, look at the Direwolf terminal and count the nunber of messages saying `[ig->tx]`.  "
   ]
  },
  {
   "cell_type": "code",
   "execution_count": 38,
   "metadata": {},
   "outputs": [],
   "source": [
    "sig = sd.rec(fs*60, samplerate=48000,device=loop_idx,channels=1,blocking=True,dtype=np.float32)"
   ]
  },
  {
   "cell_type": "code",
   "execution_count": 39,
   "metadata": {},
   "outputs": [
    {
     "data": {
      "text/plain": [
       "[<matplotlib.lines.Line2D at 0x67a08c10>]"
      ]
     },
     "execution_count": 39,
     "metadata": {},
     "output_type": "execute_result"
    },
    {
     "data": {
      "image/png": "[encoded data removed]",
      "text/plain": [
       "<Figure size 1152x288 with 1 Axes>"
      ]
     },
     "metadata": {
      "needs_background": "light"
     },
     "output_type": "display_data"
    }
   ],
   "source": [
    "plt.figure(figsize=(16,4))\n",
    "plt.plot(sig)"
   ]
  },
  {
   "cell_type": "markdown",
   "metadata": {},
   "source": [
    "Decode the messages."
   ]
  },
  {
   "cell_type": "code",
   "execution_count": 41,
   "metadata": {},
   "outputs": [
    {
     "name": "stdout",
     "output_type": "stream",
     "text": [
      " 1) | DEST: APDW13p | SRC: KN6IDV | DIGI: WIDE1 1 | }KA6UPU-1>APRS,TCPIP,KN6IDV-1*:@030003z3755.50N/12205.43W_000/000g003t067r000p000P000h64b10194.DsVP |\n",
      " 2) | DEST: APDW13p | SRC: KN6IDV | DIGI: WIDE1 1 | }K6JEB-10>APDR15,TCPIP,KN6IDV-1*:=3752.69N/12218.47W$223/007/146.520MHz/A=-00112 https://k6jeb.com/ |\n",
      " 3) | DEST: APDW13p | SRC: KN6IDV | DIGI: WIDE1 1 | }K6DDV>APDG02,TCPIP,KN6IDV-1*:!3749.83ND12156.31W&/A=000010RNG0001 440 Voice 443.12500MHz +0.0000MHz |\n",
      " 4) | DEST: APDW13p | SRC: KN6IDV | DIGI: WIDE1 1 | }K6JEB-10>APDR15,TCPIP,KN6IDV-1*:=3752.63N/12218.46W$162/021/146.520MHz/A=-00105 https://k6jeb.com/ |\n",
      " 5) | DEST: APDW13p | SRC: KN6IDV | DIGI: WIDE1 1 | }W6CX-3>APN382,TCPIP,KN6IDV-1*:!3753.56N112153.96W#PHG5430/W1,NCAn/N.Peak,Mt Diablo/A=003624 |\n",
      " 6) | DEST: APDW13p | SRC: KN6IDV | DIGI: WIDE1 1 | }KN6IEO-1>APDW13,TCPIP,KN6IDV-1*:!3752.50NR12215.47W&EE123 Rocks |\n",
      " 7) | DEST: APDW13p | SRC: KN6IDV | DIGI: WIDE1 1 | }KK6SF>APRS,TCPIP,KN6IDV-1*:!3746.87N/12225.58WISan Francisco Wireless Emergency Mesh at SF DEM |\n",
      " 8) | DEST: APDW13p | SRC: KN6IDV | DIGI: WIDE1 1 | }N6VV-2>APMI06,TCPIP,KN6IDV-1*:@022358z3757.13NI12205.63W&Contra Costa IGATE |\n",
      " 9) | DEST: APDW13p | SRC: KN6IDV | DIGI: WIDE1 1 | }KM6WGS-9>SW4RPX,TCPIP,KN6IDV-1*:`1O*r|bu\\`\"4z}_% |\n"
     ]
    }
   ],
   "source": [
    "# Your oode here:\n",
    "sig = sig.flatten()\n",
    "nrzia = nc_afsk1200Demod(sig, fs=48000)\n",
    "idx = FastPLL(nrzia, fs=48000)\n",
    "nrzi_ba = bitarray.bitarray([True if nrzia[i] > 0 else False for i in idx])\n",
    "nrz_ba = NRZI2NRZ(nrzi_ba)\n",
    "packets = findPackets(nrz_ba)\n",
    "\n",
    "# display packets:\n",
    "npack = 0\n",
    "for pkt in packets:\n",
    "        if len(pkt) > 200: \n",
    "            ax = decodeAX25(pkt)\n",
    "            if ax.info != 'bad packet':\n",
    "                npack = npack+1\n",
    "                # print(str(npack)+\") |DEST:\"+ax.destination[:-1]+\" |SRC:\" + ax.source + \" |DIGI:\" + ax.digipeaters + \" |\" + ax.info + \"|\")\n",
    "                infostr = \"%(n) 2i) | DEST: %(dest)s | SRC: %(src)s | DIGI: %(digi)s | %(info)s |\" % {\n",
    "                        'n': npack,\n",
    "                        'dest': ax.destination,\n",
    "                        'src': ax.source,\n",
    "                        'digi': ax.digipeaters,\n",
    "                        'info': ax.info.strip()\n",
    "                    }\n",
    "                print(infostr)"
   ]
  },
  {
   "cell_type": "code",
   "execution_count": 42,
   "metadata": {
    "scrolled": true
   },
   "outputs": [
    {
     "data": {
      "text/plain": [
       "[<matplotlib.lines.Line2D at 0x63668150>]"
      ]
     },
     "execution_count": 42,
     "metadata": {},
     "output_type": "execute_result"
    },
    {
     "data": {
      "image/png": "[encoded data removed]",
      "text/plain": [
       "<Figure size 1152x288 with 1 Axes>"
      ]
     },
     "metadata": {
      "needs_background": "light"
     },
     "output_type": "display_data"
    }
   ],
   "source": [
    "\n",
    "plt.figure(figsize=(16,4))\n",
    "plt.plot(sig[::480])"
   ]
  },
  {
   "cell_type": "markdown",
   "metadata": {},
   "source": [
    "Congratulations,  you created a modem!\n",
    "\n",
    "\n",
    "## Next.... We will move to stream processing to make it useful."
   ]
  },
  {
   "cell_type": "code",
   "execution_count": null,
   "metadata": {},
   "outputs": [],
   "source": []
  }
 ],
 "metadata": {
  "kernelspec": {
   "display_name": "Python 3",
   "language": "python",
   "name": "python3"
  },
  "language_info": {
   "codemirror_mode": {
    "name": "ipython",
    "version": 3
   },
   "file_extension": ".py",
   "mimetype": "text/x-python",
   "name": "python",
   "nbconvert_exporter": "python",
   "pygments_lexer": "ipython3",
   "version": "3.5.3"
  }
 },
 "nbformat": 4,
 "nbformat_minor": 1
}
