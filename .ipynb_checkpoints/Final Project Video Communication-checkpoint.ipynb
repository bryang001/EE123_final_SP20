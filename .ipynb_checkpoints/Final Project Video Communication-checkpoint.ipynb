{
 "cells": [
  {
   "cell_type": "markdown",
   "metadata": {},
   "source": [
    "# EE123 Final Project Sp20 - Video Communication\n",
    "### Bryan Yang and Lixing He"
   ]
  },
  {
   "cell_type": "code",
   "execution_count": null,
   "metadata": {},
   "outputs": [],
   "source": [
    "# Import functions and libraries (Part I)\n",
    "import numpy as np\n",
    "import scipy.fftpack\n",
    "from scipy.fftpack import dct, idct\n",
    "import matplotlib.pyplot as plt\n",
    "from bitarray import bitarray\n",
    "from huffman import *\n",
    "from os import stat\n",
    "from PIL import Image\n",
    "\n",
    "\n",
    "# Import functions and libraries (Part II)\n",
    "import queue as Queue\n",
    "import threading,time\n",
    "import sys\n",
    "\n",
    "from numpy import pi\n",
    "from numpy import sin\n",
    "from numpy import zeros\n",
    "from numpy import r_\n",
    "from numpy import ones\n",
    "from scipy import signal\n",
    "from scipy import integrate\n",
    "\n",
    "import time\n",
    "import multiprocessing\n",
    "\n",
    "from numpy import mean\n",
    "from numpy import power\n",
    "from numpy.fft import fft\n",
    "from numpy.fft import fftshift\n",
    "from numpy.fft import ifft\n",
    "from numpy.fft import ifftshift\n",
    "from  scipy.io.wavfile import read as wavread\n",
    "#import ax25\n",
    "from math import gcd\n",
    "import sounddevice as sd\n",
    "import RPi.GPIO as GPIO\n",
    "from functools import reduce\n",
    "from numpy import ones,zeros, pi, cos, exp, sign\n",
    "\n",
    "\n",
    "# Import functions and libraries (Part III)\n",
    "import base64\n",
    "import threading\n",
    "import newax25 as ax25\n",
    "\n",
    "\n",
    "%matplotlib inline"
   ]
  },
  {
   "cell_type": "markdown",
   "metadata": {},
   "source": [
    "###### Commands to run"
   ]
  },
  {
   "cell_type": "markdown",
   "metadata": {},
   "source": [
    "Compile PLL"
   ]
  },
  {
   "cell_type": "code",
   "execution_count": null,
   "metadata": {},
   "outputs": [],
   "source": [
    "!cc -fPIC -shared -o libpll.so pll.c"
   ]
  },
  {
   "cell_type": "markdown",
   "metadata": {},
   "source": [
    "Set up loopback"
   ]
  },
  {
   "cell_type": "code",
   "execution_count": null,
   "metadata": {},
   "outputs": [],
   "source": [
    "!sudo modprobe snd_aloop\n",
    "!aplay -L | grep -i plughw:card=loopback\n",
    "!aplay -l | grep -i loopback"
   ]
  },
  {
   "cell_type": "code",
   "execution_count": null,
   "metadata": {},
   "outputs": [],
   "source": [
    "sd.query_devices()"
   ]
  },
  {
   "cell_type": "code",
   "execution_count": null,
   "metadata": {},
   "outputs": [],
   "source": [
    "builtin_idx = 0\n",
    "usb_idx = 2\n",
    "loop_idx = 4  # Use loopback dev 1! direwolf is connected to dev 0.\n",
    "loop_idx_rcv = 3 # Use loopback dev 0. \n",
    "sd.default.samplerate=48000\n",
    "sd.default.channels = 1"
   ]
  },
  {
   "cell_type": "markdown",
   "metadata": {},
   "source": [
    "Set up direwolf"
   ]
  },
  {
   "cell_type": "code",
   "execution_count": null,
   "metadata": {},
   "outputs": [],
   "source": [
    "# Enter your address here\n",
    "myaddress = \"Cory Hall Berkeley CA USA\"\n",
    "\n",
    "from geopy.geocoders import Nominatim\n",
    "geolocator = Nominatim(user_agent=\"EE123\")\n",
    "location = geolocator.geocode(myaddress)"
   ]
  },
  {
   "cell_type": "code",
   "execution_count": null,
   "metadata": {},
   "outputs": [],
   "source": [
    "# hopefully it did not fail\n",
    "print(location.address)\n",
    "print((location.latitude, location.longitude))"
   ]
  },
  {
   "cell_type": "code",
   "execution_count": null,
   "metadata": {},
   "outputs": [],
   "source": [
    "import math\n",
    "lat = \"lat=%d^%2.2f%s\" % (int(abs(location.latitude)),\n",
    "                          60*(abs(location.latitude) - abs(math.floor(location.latitude))),\n",
    "                          (\"N\") if location.latitude >0 else \"S\" )  \n",
    "long = \"long=%d^%2.2f%s\" % (int(abs(location.longitude)),\n",
    "                            60*(abs(location.longitude) - math.floor(abs(location.longitude))),\n",
    "                          (\"W\") if location.longitude <0 else \"E\" )  \n",
    "                            \n",
    "print(lat, long)"
   ]
  },
  {
   "cell_type": "code",
   "execution_count": null,
   "metadata": {},
   "outputs": [],
   "source": [
    "# enter your callsign and comment for the beacon\n",
    "\n",
    "callsign = \"KN6IDV-1\"\n",
    "comment = \"EE123 is cool\"\n",
    "\n",
    "\n",
    "callsignr = callsign.split('-')[0].upper()\n",
    "code = 0x73e2\n",
    "for i, char in enumerate(callsignr):\n",
    "    code ^= ord(char) << (8 if not i % 2 else 0)\n",
    "\n",
    "passcode = code&0x7fff\n",
    "print(\"Passcode:\", passcode)"
   ]
  },
  {
   "cell_type": "code",
   "execution_count": null,
   "metadata": {},
   "outputs": [],
   "source": [
    "import os\n",
    "\n",
    "cmd = \"cat direwolf-loopback-DRAFT.conf  | sed  's/EE123_CALL/\"+callsign+\"/g'  | \"\n",
    "cmd = cmd +  \"sed  's/EE123_PASSCODE/%d/g' | \" % (passcode)\n",
    "cmd = cmd +  \"sed  's/EE123_COMMENT/comment=\\\"%s\\\"/g' | \" % (comment)\n",
    "cmd = cmd +  \"sed  's/EE123_LATCOORD/%s/g' | \" % (lat)\n",
    "cmd = cmd +  \"sed  's/EE123_LONGCOORD/%s/g' > direwolf-loopback.conf\" % (long)\n",
    "print(cmd)\n",
    "os.system(cmd)  # NOTE: this is poor security practice, but conveniently concise here"
   ]
  },
  {
   "cell_type": "code",
   "execution_count": null,
   "metadata": {},
   "outputs": [],
   "source": []
  },
  {
   "cell_type": "code",
   "execution_count": null,
   "metadata": {},
   "outputs": [],
   "source": []
  },
  {
   "cell_type": "code",
   "execution_count": null,
   "metadata": {},
   "outputs": [],
   "source": []
  },
  {
   "cell_type": "code",
   "execution_count": null,
   "metadata": {},
   "outputs": [],
   "source": []
  }
 ],
 "metadata": {
  "kernelspec": {
   "display_name": "Python 3",
   "language": "python",
   "name": "python3"
  },
  "language_info": {
   "codemirror_mode": {
    "name": "ipython",
    "version": 3
   },
   "file_extension": ".py",
   "mimetype": "text/x-python",
   "name": "python",
   "nbconvert_exporter": "python",
   "pygments_lexer": "ipython3",
   "version": "3.5.3"
  }
 },
 "nbformat": 4,
 "nbformat_minor": 2
}
